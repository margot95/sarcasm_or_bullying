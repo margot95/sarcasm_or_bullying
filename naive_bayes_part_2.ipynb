{
 "cells": [
  {
   "cell_type": "markdown",
   "id": "2c5b628f",
   "metadata": {},
   "source": [
    "## Jupyter notebook's kernel being crashing, let's continue here with the naive Bayes training"
   ]
  },
  {
   "cell_type": "code",
   "execution_count": 1,
   "id": "22c55df9",
   "metadata": {},
   "outputs": [],
   "source": [
    "import numpy as np \n",
    "import pandas as pd\n",
    "from nltk.corpus import stopwords \n",
    "from collections import Counter\n",
    "from sklearn.model_selection import train_test_split\n",
    "from sklearn.model_selection import cross_validate\n",
    "from sklearn.pipeline import make_pipeline\n",
    "from sklearn.feature_extraction.text import TfidfVectorizer, CountVectorizer\n",
    "from sklearn.naive_bayes import MultinomialNB\n",
    "from sklearn.metrics import recall_score, accuracy_score, precision_score\n",
    "from sklearn.model_selection import GridSearchCV\n",
    "import matplotlib.pyplot as plt\n",
    "import seaborn as sns\n",
    "%matplotlib inline\n",
    "import warnings\n",
    "warnings.filterwarnings('ignore')\n",
    "from sklearn.metrics import confusion_matrix"
   ]
  },
  {
   "cell_type": "code",
   "execution_count": 2,
   "id": "97e5b6a5",
   "metadata": {},
   "outputs": [],
   "source": [
    "merged_df = pd.read_csv('merged_all_csv.csv')\n",
    "merged_df['comment_cleaned'] = merged_df['comment_cleaned'].astype(str)\n",
    "merged_df['comment_cleaned_lower'] = merged_df['comment_cleaned'].str.lower()\n",
    "merged_df['label'] = np.where(merged_df['label'] == 'sarcasm', 0, 1)\n",
    "X = merged_df['comment_cleaned_lower']\n",
    "y = merged_df['label']"
   ]
  },
  {
   "cell_type": "code",
   "execution_count": 3,
   "id": "4307ce48",
   "metadata": {},
   "outputs": [
    {
     "data": {
      "text/plain": [
       "((29751,), (12751,))"
      ]
     },
     "execution_count": 3,
     "metadata": {},
     "output_type": "execute_result"
    }
   ],
   "source": [
    "X_train, X_test, y_train, y_test = train_test_split(X, y, test_size = 0.3, random_state = 0)\n",
    "X_train.shape, X_test.shape"
   ]
  },
  {
   "cell_type": "code",
   "execution_count": 4,
   "id": "5cb89604",
   "metadata": {},
   "outputs": [
    {
     "name": "stdout",
     "output_type": "stream",
     "text": [
      "if i saw this type of person in school i would bully them too 1\n"
     ]
    }
   ],
   "source": [
    "print(X_test[34464], y_test[34464])"
   ]
  },
  {
   "cell_type": "markdown",
   "id": "1d3e2d03",
   "metadata": {},
   "source": [
    "Everything is the same as in the previous notebook, let's go on"
   ]
  },
  {
   "cell_type": "markdown",
   "id": "9ae8105f",
   "metadata": {},
   "source": [
    "## Vectorizer + Naive Bayes pipeline"
   ]
  },
  {
   "cell_type": "code",
   "execution_count": 5,
   "id": "a1db1912",
   "metadata": {},
   "outputs": [
    {
     "name": "stdout",
     "output_type": "stream",
     "text": [
      "average recall is 0.99\n",
      "average accuracy is 0.92\n",
      "average precision is 0.91\n"
     ]
    }
   ],
   "source": [
    "# Pipeline vectorizer + Naive Bayes\n",
    "pipeline_naive_bayes = make_pipeline(\n",
    "    CountVectorizer(), \n",
    "    MultinomialNB()\n",
    ")\n",
    "\n",
    "# Cross-validation\n",
    "cv_results = cross_validate(pipeline_naive_bayes, X_train, y_train, cv = 5, scoring = [\"recall\"])\n",
    "average_recall = cv_results[\"test_recall\"].mean()\n",
    "print(\"average recall is\", np.round(average_recall,2))\n",
    "\n",
    "cv_results = cross_validate(pipeline_naive_bayes, X_train, y_train, cv = 5, scoring = [\"accuracy\"])\n",
    "average_accuracy = cv_results[\"test_accuracy\"].mean()\n",
    "print(\"average accuracy is\", np.round(average_accuracy,2))\n",
    "\n",
    "cv_results = cross_validate(pipeline_naive_bayes, X_train, y_train, cv = 5, scoring = [\"precision\"])\n",
    "average_precision = cv_results[\"test_precision\"].mean()\n",
    "print(\"average precision is\", np.round(average_precision,2))"
   ]
  },
  {
   "cell_type": "code",
   "execution_count": 6,
   "id": "ce2b2e6b",
   "metadata": {},
   "outputs": [
    {
     "name": "stdout",
     "output_type": "stream",
     "text": [
      "Fitting 5 folds for each of 4 candidates, totalling 20 fits\n",
      "Best Score = 0.9324056319889744\n",
      "Best params = {'countvectorizer__ngram_range': (1, 1), 'multinomialnb__alpha': 0.1}\n"
     ]
    }
   ],
   "source": [
    "# Define the grid of parameters\n",
    "parameters = {\n",
    "    'countvectorizer__ngram_range': ((1,1), (2,2)),\n",
    "    'multinomialnb__alpha': (0.1,1)\n",
    "}\n",
    "\n",
    "# Perform Grid Search\n",
    "grid_search = GridSearchCV(\n",
    "            pipeline_naive_bayes,\n",
    "            parameters,\n",
    "            scoring = \"accuracy\",\n",
    "            cv = 5,\n",
    "            n_jobs=-1,\n",
    "            verbose=1)\n",
    "\n",
    "grid_search.fit(X_train, y_train)\n",
    "\n",
    "# Best score\n",
    "print(f\"Best Score = {grid_search.best_score_}\")\n",
    "\n",
    "# Best params\n",
    "print(f\"Best params = {grid_search.best_params_}\")"
   ]
  },
  {
   "cell_type": "markdown",
   "id": "5508e774",
   "metadata": {},
   "source": [
    "## Make a prediction 🔮"
   ]
  },
  {
   "cell_type": "code",
   "execution_count": 7,
   "id": "592af41a",
   "metadata": {},
   "outputs": [
    {
     "data": {
      "text/plain": [
       "20451    i think you are a big idiot.. i'm quoting emin...\n",
       "6346     because no one ever gets laid off and has to t...\n",
       "20636         i know that your husband can beat you the...\n",
       "Name: comment_cleaned_lower, dtype: object"
      ]
     },
     "execution_count": 7,
     "metadata": {},
     "output_type": "execute_result"
    }
   ],
   "source": [
    "X_train[100:103]"
   ]
  },
  {
   "cell_type": "code",
   "execution_count": 8,
   "id": "3d522c34",
   "metadata": {},
   "outputs": [
    {
     "data": {
      "text/plain": [
       "array([1, 0, 1])"
      ]
     },
     "execution_count": 8,
     "metadata": {},
     "output_type": "execute_result"
    }
   ],
   "source": [
    "pipeline_naive_bayes.fit(X_train, y_train)\n",
    "vec = CountVectorizer(stop_words='english')\n",
    "y_pred_example = pipeline_naive_bayes.predict(X_train[100:103])\n",
    "\n",
    "y_pred_example"
   ]
  },
  {
   "cell_type": "code",
   "execution_count": 10,
   "id": "6a401a4a",
   "metadata": {},
   "outputs": [],
   "source": [
    "y_pred= pipeline_naive_bayes.predict(X_test)"
   ]
  },
  {
   "cell_type": "markdown",
   "id": "e9106465",
   "metadata": {},
   "source": [
    "## Check the accuracy score"
   ]
  },
  {
   "cell_type": "code",
   "execution_count": 11,
   "id": "6ab5b5ec",
   "metadata": {},
   "outputs": [
    {
     "name": "stdout",
     "output_type": "stream",
     "text": [
      "Model accuracy score: 0.9278\n"
     ]
    }
   ],
   "source": [
    "print('Model accuracy score: {0:0.4f}'. format(accuracy_score(y_test, y_pred)))\n",
    "\n",
    "#(Here, y_test are the true class labels and y_pred are the predicted class labels in the test-set.)"
   ]
  },
  {
   "cell_type": "code",
   "execution_count": 12,
   "id": "93bfd037",
   "metadata": {},
   "outputs": [
    {
     "name": "stdout",
     "output_type": "stream",
     "text": [
      "Training-set accuracy score: 0.9562\n"
     ]
    }
   ],
   "source": [
    "#Now, let's compare the train-set and test-set accuracy to check for overfitting.\n",
    "\n",
    "y_pred_train = pipeline_naive_bayes.predict(X_train)\n",
    "y_pred_train\n",
    "\n",
    "print('Training-set accuracy score: {0:0.4f}'. format(accuracy_score(y_train, y_pred_train)))"
   ]
  },
  {
   "cell_type": "code",
   "execution_count": 13,
   "id": "f7298962",
   "metadata": {},
   "outputs": [
    {
     "name": "stdout",
     "output_type": "stream",
     "text": [
      "Training set score: 0.9562\n",
      "Test set score: 0.9278\n"
     ]
    }
   ],
   "source": [
    "##Check for overfitting and underfitting\n",
    "\n",
    "print('Training set score: {:.4f}'.format(pipeline_naive_bayes.score(X_train, y_train)))\n",
    "\n",
    "print('Test set score: {:.4f}'.format(pipeline_naive_bayes.score(X_test, y_test)))"
   ]
  },
  {
   "cell_type": "markdown",
   "id": "fbebf275",
   "metadata": {},
   "source": [
    "The training-set accuracy score is 0.85 while the test-set accuracy to be 0.80. \n",
    "These two values are consistent, there is no sign of overfitting."
   ]
  },
  {
   "cell_type": "markdown",
   "id": "2c4556a0",
   "metadata": {},
   "source": [
    "## Confusion matrix"
   ]
  },
  {
   "cell_type": "markdown",
   "id": "1519ddda",
   "metadata": {},
   "source": [
    "Let's try to understand which label was confused by the model with which other label, let's see what are the true positives,\n",
    "the true negatives, the false positives and the false negatives."
   ]
  },
  {
   "cell_type": "code",
   "execution_count": 14,
   "id": "4f231efb",
   "metadata": {},
   "outputs": [
    {
     "name": "stdout",
     "output_type": "stream",
     "text": [
      "Confusion matrix\n",
      "\n",
      " [[2345  807]\n",
      " [ 113 9486]]\n",
      "\n",
      "True Positives(TP) =  2345\n",
      "\n",
      "True Negatives(TN) =  9486\n",
      "\n",
      "False Positives(FP) =  807\n",
      "\n",
      "False Negatives(FN) =  113\n"
     ]
    }
   ],
   "source": [
    "cm = confusion_matrix(y_test, y_pred)\n",
    "\n",
    "print('Confusion matrix\\n\\n', cm)\n",
    "\n",
    "print('\\nTrue Positives(TP) = ', cm[0,0])\n",
    "\n",
    "print('\\nTrue Negatives(TN) = ', cm[1,1])\n",
    "\n",
    "print('\\nFalse Positives(FP) = ', cm[0,1])\n",
    "\n",
    "print('\\nFalse Negatives(FN) = ', cm[1,0])"
   ]
  },
  {
   "cell_type": "code",
   "execution_count": 15,
   "id": "5c429f86",
   "metadata": {},
   "outputs": [
    {
     "data": {
      "text/plain": [
       "<AxesSubplot:>"
      ]
     },
     "execution_count": 15,
     "metadata": {},
     "output_type": "execute_result"
    },
    {
     "data": {
      "image/png": "[encoded data removed]",
      "text/plain": [
       "<Figure size 640x480 with 2 Axes>"
      ]
     },
     "metadata": {},
     "output_type": "display_data"
    }
   ],
   "source": [
    "# visualizing confusion matrix with seaborn heatmap\n",
    "\n",
    "cm_matrix = pd.DataFrame(data=cm, columns=['Actual Positive:1', 'Actual Negative:0'], \n",
    "                                 index=['Predict Positive:1', 'Predict Negative:0'])\n",
    "\n",
    "sns.heatmap(cm_matrix, annot=True, fmt='d', cmap='YlGnBu')"
   ]
  },
  {
   "cell_type": "code",
   "execution_count": 16,
   "id": "72581598",
   "metadata": {},
   "outputs": [
    {
     "data": {
      "text/plain": [
       "<AxesSubplot:>"
      ]
     },
     "execution_count": 16,
     "metadata": {},
     "output_type": "execute_result"
    },
    {
     "data": {
      "image/png": "[encoded data removed]",
      "text/plain": [
       "<Figure size 640x480 with 2 Axes>"
      ]
     },
     "metadata": {},
     "output_type": "display_data"
    }
   ],
   "source": [
    "## Another confusion matrix with our labels, more understandable\n",
    "cm_matrix = pd.DataFrame(data=cm, columns=['Actual Cyberbullying', 'Actual Sarcasm'], \n",
    "                                 index=['Predict Cyberbullying', 'Predict Sarcasm'])\n",
    "\n",
    "sns.heatmap(cm_matrix, annot=True, fmt='d', cmap='YlGnBu')"
   ]
  },
  {
   "cell_type": "markdown",
   "id": "4595b379",
   "metadata": {},
   "source": [
    "We have quiet high false positives (sarcastic comments predicted as cyberbullying). But the most important in our task is that we have very little number of false negatives (6), meaning bullying comments being classified as sarcasm."
   ]
  },
  {
   "cell_type": "markdown",
   "id": "2e4b78ae",
   "metadata": {},
   "source": [
    "## Making prediction on new sentences"
   ]
  },
  {
   "cell_type": "code",
   "execution_count": 17,
   "id": "b3570537",
   "metadata": {},
   "outputs": [
    {
     "name": "stdout",
     "output_type": "stream",
     "text": [
      "[1]\n"
     ]
    }
   ],
   "source": [
    "# custom function\n",
    "def my_prediction(my_sentence, model):\n",
    "    prediction = pipeline_naive_bayes.predict([my_sentence])\n",
    "    return prediction\n",
    "\n",
    "my_sentence = \"I HATE YOU dumb ... swear to god\"\n",
    "print(my_prediction(my_sentence, pipeline_naive_bayes))"
   ]
  },
  {
   "cell_type": "code",
   "execution_count": 18,
   "id": "25252501",
   "metadata": {},
   "outputs": [
    {
     "name": "stdout",
     "output_type": "stream",
     "text": [
      "[0]\n"
     ]
    }
   ],
   "source": [
    "my_sentence = \"well yeah\"\n",
    "print(my_prediction(my_sentence, pipeline_naive_bayes))"
   ]
  },
  {
   "cell_type": "markdown",
   "id": "212eea7b",
   "metadata": {},
   "source": [
    "## Saving the modified dataset as a new csv file"
   ]
  },
  {
   "cell_type": "code",
   "execution_count": 19,
   "id": "d568c5bc",
   "metadata": {},
   "outputs": [],
   "source": [
    "merged_df.to_csv('merged_all_modified_csv.csv')"
   ]
  }
 ],
 "metadata": {
  "kernelspec": {
   "display_name": "Python 3 (ipykernel)",
   "language": "python",
   "name": "python3"
  },
  "language_info": {
   "codemirror_mode": {
    "name": "ipython",
    "version": 3
   },
   "file_extension": ".py",
   "mimetype": "text/x-python",
   "name": "python",
   "nbconvert_exporter": "python",
   "pygments_lexer": "ipython3",
   "version": "3.10.6"
  },
  "toc": {
   "base_numbering": 1,
   "nav_menu": {},
   "number_sections": true,
   "sideBar": true,
   "skip_h1_title": false,
   "title_cell": "Table of Contents",
   "title_sidebar": "Contents",
   "toc_cell": false,
   "toc_position": {},
   "toc_section_display": true,
   "toc_window_display": false
  }
 },
 "nbformat": 4,
 "nbformat_minor": 5
}
