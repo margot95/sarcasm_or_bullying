{
 "cells": [
  {
   "cell_type": "markdown",
   "id": "07647f4d",
   "metadata": {},
   "source": [
    "# Naives Bayes (get a probability of a comment being 'sarcasm' or 'bullying' given 'a word'  is in this comment)"
   ]
  },
  {
   "cell_type": "code",
   "execution_count": 1,
   "id": "a8772bee",
   "metadata": {},
   "outputs": [],
   "source": [
    "import numpy as np \n",
    "import pandas as pd\n",
    "from nltk.corpus import stopwords \n",
    "from collections import Counter\n",
    "from sklearn.model_selection import train_test_split\n",
    "\n",
    "from sklearn.model_selection import cross_validate\n",
    "from sklearn.pipeline import make_pipeline\n",
    "from sklearn.feature_extraction.text import TfidfVectorizer\n",
    "from sklearn.naive_bayes import MultinomialNB\n",
    "from sklearn.metrics import recall_score, accuracy_score, precision_score\n",
    "from sklearn.model_selection import GridSearchCV\n",
    "\n",
    "import matplotlib.pyplot as plt\n",
    "import seaborn as sns\n",
    "%matplotlib inline\n",
    "import warnings\n",
    "warnings.filterwarnings('ignore')\n",
    "from sklearn.metrics import confusion_matrix\n"
   ]
  },
  {
   "cell_type": "markdown",
   "id": "405929ba",
   "metadata": {},
   "source": [
    "## Fetching the dataset"
   ]
  },
  {
   "cell_type": "code",
   "execution_count": 2,
   "id": "9ffd440c",
   "metadata": {},
   "outputs": [],
   "source": [
    "merged_df = pd.read_csv('merged_all_csv.csv')"
   ]
  },
  {
   "cell_type": "code",
   "execution_count": 3,
   "id": "6e3d07d5",
   "metadata": {},
   "outputs": [
    {
     "data": {
      "text/html": [
       "<div>\n",
       "<style scoped>\n",
       "    .dataframe tbody tr th:only-of-type {\n",
       "        vertical-align: middle;\n",
       "    }\n",
       "\n",
       "    .dataframe tbody tr th {\n",
       "        vertical-align: top;\n",
       "    }\n",
       "\n",
       "    .dataframe thead th {\n",
       "        text-align: right;\n",
       "    }\n",
       "</style>\n",
       "<table border=\"1\" class=\"dataframe\">\n",
       "  <thead>\n",
       "    <tr style=\"text-align: right;\">\n",
       "      <th></th>\n",
       "      <th>Unnamed: 0</th>\n",
       "      <th>label</th>\n",
       "      <th>comment</th>\n",
       "      <th>comment_cleaned</th>\n",
       "      <th>Words Per Tweet</th>\n",
       "    </tr>\n",
       "  </thead>\n",
       "  <tbody>\n",
       "    <tr>\n",
       "      <th>0</th>\n",
       "      <td>44</td>\n",
       "      <td>sarcasm</td>\n",
       "      <td>wow it is totally unreasonable to assume that ...</td>\n",
       "      <td>wow it is totally unreasonable to assume that ...</td>\n",
       "      <td>25.0</td>\n",
       "    </tr>\n",
       "    <tr>\n",
       "      <th>1</th>\n",
       "      <td>443</td>\n",
       "      <td>sarcasm</td>\n",
       "      <td>A WHITE FUCKIN MALE is out to destroy 2 strong...</td>\n",
       "      <td>a WHITE FUCKIN MALE is out to destroy  strong,...</td>\n",
       "      <td>18.0</td>\n",
       "    </tr>\n",
       "    <tr>\n",
       "      <th>2</th>\n",
       "      <td>807</td>\n",
       "      <td>sarcasm</td>\n",
       "      <td>He probably just didn't want to read them beca...</td>\n",
       "      <td>he probably just didn't want to read them beca...</td>\n",
       "      <td>23.0</td>\n",
       "    </tr>\n",
       "    <tr>\n",
       "      <th>3</th>\n",
       "      <td>1745</td>\n",
       "      <td>sarcasm</td>\n",
       "      <td>It's like he's saying we're entering a post ge...</td>\n",
       "      <td>it's like he's saying we're entering a post ge...</td>\n",
       "      <td>21.0</td>\n",
       "    </tr>\n",
       "    <tr>\n",
       "      <th>4</th>\n",
       "      <td>2022</td>\n",
       "      <td>sarcasm</td>\n",
       "      <td>But it was clearly only dismissed because of d...</td>\n",
       "      <td>but it was clearly only dismissed because of d...</td>\n",
       "      <td>19.0</td>\n",
       "    </tr>\n",
       "    <tr>\n",
       "      <th>...</th>\n",
       "      <td>...</td>\n",
       "      <td>...</td>\n",
       "      <td>...</td>\n",
       "      <td>...</td>\n",
       "      <td>...</td>\n",
       "    </tr>\n",
       "    <tr>\n",
       "      <th>42497</th>\n",
       "      <td>47687</td>\n",
       "      <td>ethnicity</td>\n",
       "      <td>Black ppl aren't expected to do anything, depe...</td>\n",
       "      <td>black ppl aren't expected to do anything, depe...</td>\n",
       "      <td>42.0</td>\n",
       "    </tr>\n",
       "    <tr>\n",
       "      <th>42498</th>\n",
       "      <td>47688</td>\n",
       "      <td>ethnicity</td>\n",
       "      <td>Turner did not withhold his disappointment. Tu...</td>\n",
       "      <td>turner did not withhold his disappointment. Tu...</td>\n",
       "      <td>45.0</td>\n",
       "    </tr>\n",
       "    <tr>\n",
       "      <th>42499</th>\n",
       "      <td>47689</td>\n",
       "      <td>ethnicity</td>\n",
       "      <td>I swear to God. This dumb nigger bitch. I have...</td>\n",
       "      <td>i swear to God. This dumb nigger bitch. I have...</td>\n",
       "      <td>20.0</td>\n",
       "    </tr>\n",
       "    <tr>\n",
       "      <th>42500</th>\n",
       "      <td>47690</td>\n",
       "      <td>ethnicity</td>\n",
       "      <td>Yea fuck you RT @therealexel: IF YOURE A NIGGE...</td>\n",
       "      <td>yea fuck you RT  IF YOURE A NIGGER FUCKING UNF...</td>\n",
       "      <td>15.0</td>\n",
       "    </tr>\n",
       "    <tr>\n",
       "      <th>42501</th>\n",
       "      <td>47691</td>\n",
       "      <td>ethnicity</td>\n",
       "      <td>Bro. U gotta chill RT @CHILLShrammy: Dog FUCK ...</td>\n",
       "      <td>bro. U gotta chill RT  Dog FUCK KP that dumb n...</td>\n",
       "      <td>14.0</td>\n",
       "    </tr>\n",
       "  </tbody>\n",
       "</table>\n",
       "<p>42502 rows × 5 columns</p>\n",
       "</div>"
      ],
      "text/plain": [
       "       Unnamed: 0      label  \\\n",
       "0              44    sarcasm   \n",
       "1             443    sarcasm   \n",
       "2             807    sarcasm   \n",
       "3            1745    sarcasm   \n",
       "4            2022    sarcasm   \n",
       "...           ...        ...   \n",
       "42497       47687  ethnicity   \n",
       "42498       47688  ethnicity   \n",
       "42499       47689  ethnicity   \n",
       "42500       47690  ethnicity   \n",
       "42501       47691  ethnicity   \n",
       "\n",
       "                                                 comment  \\\n",
       "0      wow it is totally unreasonable to assume that ...   \n",
       "1      A WHITE FUCKIN MALE is out to destroy 2 strong...   \n",
       "2      He probably just didn't want to read them beca...   \n",
       "3      It's like he's saying we're entering a post ge...   \n",
       "4      But it was clearly only dismissed because of d...   \n",
       "...                                                  ...   \n",
       "42497  Black ppl aren't expected to do anything, depe...   \n",
       "42498  Turner did not withhold his disappointment. Tu...   \n",
       "42499  I swear to God. This dumb nigger bitch. I have...   \n",
       "42500  Yea fuck you RT @therealexel: IF YOURE A NIGGE...   \n",
       "42501  Bro. U gotta chill RT @CHILLShrammy: Dog FUCK ...   \n",
       "\n",
       "                                         comment_cleaned  Words Per Tweet  \n",
       "0      wow it is totally unreasonable to assume that ...             25.0  \n",
       "1      a WHITE FUCKIN MALE is out to destroy  strong,...             18.0  \n",
       "2      he probably just didn't want to read them beca...             23.0  \n",
       "3      it's like he's saying we're entering a post ge...             21.0  \n",
       "4      but it was clearly only dismissed because of d...             19.0  \n",
       "...                                                  ...              ...  \n",
       "42497  black ppl aren't expected to do anything, depe...             42.0  \n",
       "42498  turner did not withhold his disappointment. Tu...             45.0  \n",
       "42499  i swear to God. This dumb nigger bitch. I have...             20.0  \n",
       "42500  yea fuck you RT  IF YOURE A NIGGER FUCKING UNF...             15.0  \n",
       "42501  bro. U gotta chill RT  Dog FUCK KP that dumb n...             14.0  \n",
       "\n",
       "[42502 rows x 5 columns]"
      ]
     },
     "execution_count": 3,
     "metadata": {},
     "output_type": "execute_result"
    }
   ],
   "source": [
    "merged_df"
   ]
  },
  {
   "cell_type": "code",
   "execution_count": 4,
   "id": "1f9b7f40",
   "metadata": {},
   "outputs": [
    {
     "data": {
      "text/plain": [
       "label               object\n",
       "comment_cleaned     object\n",
       "Words Per Tweet    float64\n",
       "dtype: object"
      ]
     },
     "execution_count": 4,
     "metadata": {},
     "output_type": "execute_result"
    }
   ],
   "source": [
    "merged_df = merged_df[['label', 'comment_cleaned', 'Words Per Tweet']]\n",
    "merged_df.dtypes"
   ]
  },
  {
   "cell_type": "code",
   "execution_count": 5,
   "id": "4f59cd8c",
   "metadata": {},
   "outputs": [],
   "source": [
    "merged_df['comment_cleaned'] = merged_df['comment_cleaned'].astype(str)"
   ]
  },
  {
   "cell_type": "markdown",
   "id": "d43bea20",
   "metadata": {
    "heading_collapsed": true
   },
   "source": [
    "## Lowercasing the dataset"
   ]
  },
  {
   "cell_type": "code",
   "execution_count": 6,
   "id": "4f7d6826",
   "metadata": {
    "hidden": true
   },
   "outputs": [
    {
     "data": {
      "text/html": [
       "<div>\n",
       "<style scoped>\n",
       "    .dataframe tbody tr th:only-of-type {\n",
       "        vertical-align: middle;\n",
       "    }\n",
       "\n",
       "    .dataframe tbody tr th {\n",
       "        vertical-align: top;\n",
       "    }\n",
       "\n",
       "    .dataframe thead th {\n",
       "        text-align: right;\n",
       "    }\n",
       "</style>\n",
       "<table border=\"1\" class=\"dataframe\">\n",
       "  <thead>\n",
       "    <tr style=\"text-align: right;\">\n",
       "      <th></th>\n",
       "      <th>label</th>\n",
       "      <th>comment_cleaned</th>\n",
       "      <th>Words Per Tweet</th>\n",
       "      <th>comment_cleaned_lower</th>\n",
       "    </tr>\n",
       "  </thead>\n",
       "  <tbody>\n",
       "    <tr>\n",
       "      <th>0</th>\n",
       "      <td>sarcasm</td>\n",
       "      <td>wow it is totally unreasonable to assume that ...</td>\n",
       "      <td>25.0</td>\n",
       "      <td>wow it is totally unreasonable to assume that ...</td>\n",
       "    </tr>\n",
       "    <tr>\n",
       "      <th>1</th>\n",
       "      <td>sarcasm</td>\n",
       "      <td>a WHITE FUCKIN MALE is out to destroy  strong,...</td>\n",
       "      <td>18.0</td>\n",
       "      <td>a white fuckin male is out to destroy  strong,...</td>\n",
       "    </tr>\n",
       "    <tr>\n",
       "      <th>2</th>\n",
       "      <td>sarcasm</td>\n",
       "      <td>he probably just didn't want to read them beca...</td>\n",
       "      <td>23.0</td>\n",
       "      <td>he probably just didn't want to read them beca...</td>\n",
       "    </tr>\n",
       "    <tr>\n",
       "      <th>3</th>\n",
       "      <td>sarcasm</td>\n",
       "      <td>it's like he's saying we're entering a post ge...</td>\n",
       "      <td>21.0</td>\n",
       "      <td>it's like he's saying we're entering a post ge...</td>\n",
       "    </tr>\n",
       "    <tr>\n",
       "      <th>4</th>\n",
       "      <td>sarcasm</td>\n",
       "      <td>but it was clearly only dismissed because of d...</td>\n",
       "      <td>19.0</td>\n",
       "      <td>but it was clearly only dismissed because of d...</td>\n",
       "    </tr>\n",
       "    <tr>\n",
       "      <th>...</th>\n",
       "      <td>...</td>\n",
       "      <td>...</td>\n",
       "      <td>...</td>\n",
       "      <td>...</td>\n",
       "    </tr>\n",
       "    <tr>\n",
       "      <th>42497</th>\n",
       "      <td>ethnicity</td>\n",
       "      <td>black ppl aren't expected to do anything, depe...</td>\n",
       "      <td>42.0</td>\n",
       "      <td>black ppl aren't expected to do anything, depe...</td>\n",
       "    </tr>\n",
       "    <tr>\n",
       "      <th>42498</th>\n",
       "      <td>ethnicity</td>\n",
       "      <td>turner did not withhold his disappointment. Tu...</td>\n",
       "      <td>45.0</td>\n",
       "      <td>turner did not withhold his disappointment. tu...</td>\n",
       "    </tr>\n",
       "    <tr>\n",
       "      <th>42499</th>\n",
       "      <td>ethnicity</td>\n",
       "      <td>i swear to God. This dumb nigger bitch. I have...</td>\n",
       "      <td>20.0</td>\n",
       "      <td>i swear to god. this dumb nigger bitch. i have...</td>\n",
       "    </tr>\n",
       "    <tr>\n",
       "      <th>42500</th>\n",
       "      <td>ethnicity</td>\n",
       "      <td>yea fuck you RT  IF YOURE A NIGGER FUCKING UNF...</td>\n",
       "      <td>15.0</td>\n",
       "      <td>yea fuck you rt  if youre a nigger fucking unf...</td>\n",
       "    </tr>\n",
       "    <tr>\n",
       "      <th>42501</th>\n",
       "      <td>ethnicity</td>\n",
       "      <td>bro. U gotta chill RT  Dog FUCK KP that dumb n...</td>\n",
       "      <td>14.0</td>\n",
       "      <td>bro. u gotta chill rt  dog fuck kp that dumb n...</td>\n",
       "    </tr>\n",
       "  </tbody>\n",
       "</table>\n",
       "<p>42502 rows × 4 columns</p>\n",
       "</div>"
      ],
      "text/plain": [
       "           label                                    comment_cleaned  \\\n",
       "0        sarcasm  wow it is totally unreasonable to assume that ...   \n",
       "1        sarcasm  a WHITE FUCKIN MALE is out to destroy  strong,...   \n",
       "2        sarcasm  he probably just didn't want to read them beca...   \n",
       "3        sarcasm  it's like he's saying we're entering a post ge...   \n",
       "4        sarcasm  but it was clearly only dismissed because of d...   \n",
       "...          ...                                                ...   \n",
       "42497  ethnicity  black ppl aren't expected to do anything, depe...   \n",
       "42498  ethnicity  turner did not withhold his disappointment. Tu...   \n",
       "42499  ethnicity  i swear to God. This dumb nigger bitch. I have...   \n",
       "42500  ethnicity  yea fuck you RT  IF YOURE A NIGGER FUCKING UNF...   \n",
       "42501  ethnicity  bro. U gotta chill RT  Dog FUCK KP that dumb n...   \n",
       "\n",
       "       Words Per Tweet                              comment_cleaned_lower  \n",
       "0                 25.0  wow it is totally unreasonable to assume that ...  \n",
       "1                 18.0  a white fuckin male is out to destroy  strong,...  \n",
       "2                 23.0  he probably just didn't want to read them beca...  \n",
       "3                 21.0  it's like he's saying we're entering a post ge...  \n",
       "4                 19.0  but it was clearly only dismissed because of d...  \n",
       "...                ...                                                ...  \n",
       "42497             42.0  black ppl aren't expected to do anything, depe...  \n",
       "42498             45.0  turner did not withhold his disappointment. tu...  \n",
       "42499             20.0  i swear to god. this dumb nigger bitch. i have...  \n",
       "42500             15.0  yea fuck you rt  if youre a nigger fucking unf...  \n",
       "42501             14.0  bro. u gotta chill rt  dog fuck kp that dumb n...  \n",
       "\n",
       "[42502 rows x 4 columns]"
      ]
     },
     "execution_count": 6,
     "metadata": {},
     "output_type": "execute_result"
    }
   ],
   "source": [
    "merged_df['comment_cleaned_lower'] = merged_df['comment_cleaned'].str.lower()\n",
    "merged_df"
   ]
  },
  {
   "cell_type": "markdown",
   "id": "e0186f9c",
   "metadata": {},
   "source": [
    "## Getting the most frequent words"
   ]
  },
  {
   "cell_type": "markdown",
   "id": "a83ed320",
   "metadata": {},
   "source": [
    "The most frequent words are for sure going to be stop words, so in order to find frequent occurences of meaningful words, let's create a new column which will contain the comment without the stopwords."
   ]
  },
  {
   "cell_type": "code",
   "execution_count": 7,
   "id": "10d8bea4",
   "metadata": {},
   "outputs": [
    {
     "data": {
      "text/html": [
       "<div>\n",
       "<style scoped>\n",
       "    .dataframe tbody tr th:only-of-type {\n",
       "        vertical-align: middle;\n",
       "    }\n",
       "\n",
       "    .dataframe tbody tr th {\n",
       "        vertical-align: top;\n",
       "    }\n",
       "\n",
       "    .dataframe thead th {\n",
       "        text-align: right;\n",
       "    }\n",
       "</style>\n",
       "<table border=\"1\" class=\"dataframe\">\n",
       "  <thead>\n",
       "    <tr style=\"text-align: right;\">\n",
       "      <th></th>\n",
       "      <th>label</th>\n",
       "      <th>comment_cleaned</th>\n",
       "      <th>Words Per Tweet</th>\n",
       "      <th>comment_cleaned_lower</th>\n",
       "      <th>text_without_stop_words</th>\n",
       "    </tr>\n",
       "  </thead>\n",
       "  <tbody>\n",
       "    <tr>\n",
       "      <th>0</th>\n",
       "      <td>sarcasm</td>\n",
       "      <td>wow it is totally unreasonable to assume that ...</td>\n",
       "      <td>25.0</td>\n",
       "      <td>wow it is totally unreasonable to assume that ...</td>\n",
       "      <td>wow totally unreasonable assume agency covered...</td>\n",
       "    </tr>\n",
       "    <tr>\n",
       "      <th>1</th>\n",
       "      <td>sarcasm</td>\n",
       "      <td>a WHITE FUCKIN MALE is out to destroy  strong,...</td>\n",
       "      <td>18.0</td>\n",
       "      <td>a white fuckin male is out to destroy  strong,...</td>\n",
       "      <td>white fuckin male destroy strong, independent ...</td>\n",
       "    </tr>\n",
       "    <tr>\n",
       "      <th>2</th>\n",
       "      <td>sarcasm</td>\n",
       "      <td>he probably just didn't want to read them beca...</td>\n",
       "      <td>23.0</td>\n",
       "      <td>he probably just didn't want to read them beca...</td>\n",
       "      <td>probably want read illegal read news media see...</td>\n",
       "    </tr>\n",
       "    <tr>\n",
       "      <th>3</th>\n",
       "      <td>sarcasm</td>\n",
       "      <td>it's like he's saying we're entering a post ge...</td>\n",
       "      <td>21.0</td>\n",
       "      <td>it's like he's saying we're entering a post ge...</td>\n",
       "      <td>like he's saying we're entering post gender so...</td>\n",
       "    </tr>\n",
       "    <tr>\n",
       "      <th>4</th>\n",
       "      <td>sarcasm</td>\n",
       "      <td>but it was clearly only dismissed because of d...</td>\n",
       "      <td>19.0</td>\n",
       "      <td>but it was clearly only dismissed because of d...</td>\n",
       "      <td>clearly dismissed death threats even though li...</td>\n",
       "    </tr>\n",
       "    <tr>\n",
       "      <th>...</th>\n",
       "      <td>...</td>\n",
       "      <td>...</td>\n",
       "      <td>...</td>\n",
       "      <td>...</td>\n",
       "      <td>...</td>\n",
       "    </tr>\n",
       "    <tr>\n",
       "      <th>42497</th>\n",
       "      <td>ethnicity</td>\n",
       "      <td>black ppl aren't expected to do anything, depe...</td>\n",
       "      <td>42.0</td>\n",
       "      <td>black ppl aren't expected to do anything, depe...</td>\n",
       "      <td>black ppl expected anything, depended anything...</td>\n",
       "    </tr>\n",
       "    <tr>\n",
       "      <th>42498</th>\n",
       "      <td>ethnicity</td>\n",
       "      <td>turner did not withhold his disappointment. Tu...</td>\n",
       "      <td>45.0</td>\n",
       "      <td>turner did not withhold his disappointment. tu...</td>\n",
       "      <td>turner withhold disappointment. turner called ...</td>\n",
       "    </tr>\n",
       "    <tr>\n",
       "      <th>42499</th>\n",
       "      <td>ethnicity</td>\n",
       "      <td>i swear to God. This dumb nigger bitch. I have...</td>\n",
       "      <td>20.0</td>\n",
       "      <td>i swear to god. this dumb nigger bitch. i have...</td>\n",
       "      <td>swear god. dumb nigger bitch. got bleach hair ...</td>\n",
       "    </tr>\n",
       "    <tr>\n",
       "      <th>42500</th>\n",
       "      <td>ethnicity</td>\n",
       "      <td>yea fuck you RT  IF YOURE A NIGGER FUCKING UNF...</td>\n",
       "      <td>15.0</td>\n",
       "      <td>yea fuck you rt  if youre a nigger fucking unf...</td>\n",
       "      <td>yea fuck rt youre nigger fucking unfollow me, ...</td>\n",
       "    </tr>\n",
       "    <tr>\n",
       "      <th>42501</th>\n",
       "      <td>ethnicity</td>\n",
       "      <td>bro. U gotta chill RT  Dog FUCK KP that dumb n...</td>\n",
       "      <td>14.0</td>\n",
       "      <td>bro. u gotta chill rt  dog fuck kp that dumb n...</td>\n",
       "      <td>bro. u gotta chill rt dog fuck kp dumb nigger ...</td>\n",
       "    </tr>\n",
       "  </tbody>\n",
       "</table>\n",
       "<p>42502 rows × 5 columns</p>\n",
       "</div>"
      ],
      "text/plain": [
       "           label                                    comment_cleaned  \\\n",
       "0        sarcasm  wow it is totally unreasonable to assume that ...   \n",
       "1        sarcasm  a WHITE FUCKIN MALE is out to destroy  strong,...   \n",
       "2        sarcasm  he probably just didn't want to read them beca...   \n",
       "3        sarcasm  it's like he's saying we're entering a post ge...   \n",
       "4        sarcasm  but it was clearly only dismissed because of d...   \n",
       "...          ...                                                ...   \n",
       "42497  ethnicity  black ppl aren't expected to do anything, depe...   \n",
       "42498  ethnicity  turner did not withhold his disappointment. Tu...   \n",
       "42499  ethnicity  i swear to God. This dumb nigger bitch. I have...   \n",
       "42500  ethnicity  yea fuck you RT  IF YOURE A NIGGER FUCKING UNF...   \n",
       "42501  ethnicity  bro. U gotta chill RT  Dog FUCK KP that dumb n...   \n",
       "\n",
       "       Words Per Tweet                              comment_cleaned_lower  \\\n",
       "0                 25.0  wow it is totally unreasonable to assume that ...   \n",
       "1                 18.0  a white fuckin male is out to destroy  strong,...   \n",
       "2                 23.0  he probably just didn't want to read them beca...   \n",
       "3                 21.0  it's like he's saying we're entering a post ge...   \n",
       "4                 19.0  but it was clearly only dismissed because of d...   \n",
       "...                ...                                                ...   \n",
       "42497             42.0  black ppl aren't expected to do anything, depe...   \n",
       "42498             45.0  turner did not withhold his disappointment. tu...   \n",
       "42499             20.0  i swear to god. this dumb nigger bitch. i have...   \n",
       "42500             15.0  yea fuck you rt  if youre a nigger fucking unf...   \n",
       "42501             14.0  bro. u gotta chill rt  dog fuck kp that dumb n...   \n",
       "\n",
       "                                 text_without_stop_words  \n",
       "0      wow totally unreasonable assume agency covered...  \n",
       "1      white fuckin male destroy strong, independent ...  \n",
       "2      probably want read illegal read news media see...  \n",
       "3      like he's saying we're entering post gender so...  \n",
       "4      clearly dismissed death threats even though li...  \n",
       "...                                                  ...  \n",
       "42497  black ppl expected anything, depended anything...  \n",
       "42498  turner withhold disappointment. turner called ...  \n",
       "42499  swear god. dumb nigger bitch. got bleach hair ...  \n",
       "42500  yea fuck rt youre nigger fucking unfollow me, ...  \n",
       "42501  bro. u gotta chill rt dog fuck kp dumb nigger ...  \n",
       "\n",
       "[42502 rows x 5 columns]"
      ]
     },
     "execution_count": 7,
     "metadata": {},
     "output_type": "execute_result"
    }
   ],
   "source": [
    "stop_words = set(stopwords.words('english')) \n",
    "merged_df['text_without_stop_words'] = merged_df['comment_cleaned_lower'].apply(lambda x: ' '.join([word for word in x.split() if word not in stop_words]))\n",
    "\n",
    "merged_df"
   ]
  },
  {
   "cell_type": "code",
   "execution_count": 8,
   "id": "4607bbef",
   "metadata": {},
   "outputs": [],
   "source": [
    "unmerged_df_sarcasm = merged_df[merged_df['label'] == 'sarcasm']"
   ]
  },
  {
   "cell_type": "code",
   "execution_count": 9,
   "id": "3dd77397",
   "metadata": {},
   "outputs": [
    {
     "name": "stdout",
     "output_type": "stream",
     "text": [
      "Here are the 20 most frequent words in the sarcastic comments:\n",
      "like: 1000\n",
      "people: 895\n",
      "would: 751\n",
      "get: 729\n",
      "i'm: 599\n",
      "yeah,: 547\n",
      "one: 544\n",
      "know: 542\n",
      "yeah: 523\n",
      "sure: 464\n",
      "make: 436\n",
      "well: 419\n",
      "good: 384\n",
      "can't: 381\n",
      "want: 335\n",
      "way: 332\n",
      "going: 331\n",
      "think: 329\n",
      "see: 325\n",
      "really: 323\n"
     ]
    }
   ],
   "source": [
    "# first get the strings from the dataframe column\n",
    "strings = unmerged_df_sarcasm['text_without_stop_words'].tolist()\n",
    "\n",
    "# create a list to store all words, loop through the strings and add each word to the list\n",
    "all_words = []\n",
    "for string in strings:\n",
    "    words = str(string).split()\n",
    "    all_words.extend(words)\n",
    "\n",
    "# get the 10, 20,30 most frequent words using collections.Counter\n",
    "word_counts = Counter(all_words)\n",
    "most_common_words = word_counts.most_common(20)\n",
    "\n",
    "#print them, we just do all this to have an intuition of what word(s) to pick to run our naives bayes tests\n",
    "print(\"Here are the 20 most frequent words in the sarcastic comments:\")\n",
    "for word, count in most_common_words:\n",
    "    print(f\"{word}: {count}\")"
   ]
  },
  {
   "cell_type": "code",
   "execution_count": 10,
   "id": "07b94367",
   "metadata": {},
   "outputs": [
    {
     "name": "stdout",
     "output_type": "stream",
     "text": [
      "Here are the 20 most frequent words in the bully comments:\n",
      "school: 6816\n",
      "like: 5791\n",
      "dumb: 5112\n",
      "fuck: 5108\n",
      "high: 5026\n",
      "people: 4394\n",
      "bullied: 4153\n",
      "u: 3654\n",
      "rape: 3518\n",
      "one: 3241\n",
      "gay: 3225\n",
      "get: 2874\n",
      "nigger: 2837\n",
      "&: 2549\n",
      "rt: 2546\n",
      "ass: 2471\n",
      "girls: 2458\n",
      "black: 2449\n",
      "would: 2364\n",
      "girl: 2364\n"
     ]
    }
   ],
   "source": [
    "# first get the strings from the dataframe column\n",
    "strings = merged_df['text_without_stop_words'].tolist()\n",
    "\n",
    "# create a list to store all words, loop through the strings and add each word to the list\n",
    "all_words = []\n",
    "for string in strings:\n",
    "    words = str(string).split()\n",
    "    all_words.extend(words)\n",
    "\n",
    "# get the 10, 20,30 most frequent words using collections.Counter\n",
    "word_counts = Counter(all_words)\n",
    "most_common_words = word_counts.most_common(20)\n",
    "\n",
    "#print them, we just do all this to have an intuition of what word(s) to pick to run our naives bayes tests\n",
    "print(\"Here are the 20 most frequent words in the bully comments:\")\n",
    "for word, count in most_common_words:\n",
    "    print(f\"{word}: {count}\")"
   ]
  },
  {
   "cell_type": "markdown",
   "id": "e3635daf",
   "metadata": {},
   "source": [
    "Let's pick \"school\", \"dumb\" and \"girls\""
   ]
  },
  {
   "cell_type": "markdown",
   "id": "701a19b5",
   "metadata": {},
   "source": [
    "## Labelling the dataset 1 for cyberbullying, 0 for sarcasm, declaring our X and y (features and target) & performing the train-test split"
   ]
  },
  {
   "cell_type": "code",
   "execution_count": 11,
   "id": "0bd0300d",
   "metadata": {},
   "outputs": [],
   "source": [
    "merged_df['label'] = np.where(merged_df['label'] == 'sarcasm', 0, 1)"
   ]
  },
  {
   "cell_type": "code",
   "execution_count": 12,
   "id": "abef87e3",
   "metadata": {},
   "outputs": [
    {
     "data": {
      "text/html": [
       "<div>\n",
       "<style scoped>\n",
       "    .dataframe tbody tr th:only-of-type {\n",
       "        vertical-align: middle;\n",
       "    }\n",
       "\n",
       "    .dataframe tbody tr th {\n",
       "        vertical-align: top;\n",
       "    }\n",
       "\n",
       "    .dataframe thead th {\n",
       "        text-align: right;\n",
       "    }\n",
       "</style>\n",
       "<table border=\"1\" class=\"dataframe\">\n",
       "  <thead>\n",
       "    <tr style=\"text-align: right;\">\n",
       "      <th></th>\n",
       "      <th>label</th>\n",
       "      <th>comment_cleaned</th>\n",
       "      <th>Words Per Tweet</th>\n",
       "      <th>comment_cleaned_lower</th>\n",
       "      <th>text_without_stop_words</th>\n",
       "    </tr>\n",
       "  </thead>\n",
       "  <tbody>\n",
       "    <tr>\n",
       "      <th>0</th>\n",
       "      <td>0</td>\n",
       "      <td>wow it is totally unreasonable to assume that ...</td>\n",
       "      <td>25.0</td>\n",
       "      <td>wow it is totally unreasonable to assume that ...</td>\n",
       "      <td>wow totally unreasonable assume agency covered...</td>\n",
       "    </tr>\n",
       "    <tr>\n",
       "      <th>1</th>\n",
       "      <td>0</td>\n",
       "      <td>a WHITE FUCKIN MALE is out to destroy  strong,...</td>\n",
       "      <td>18.0</td>\n",
       "      <td>a white fuckin male is out to destroy  strong,...</td>\n",
       "      <td>white fuckin male destroy strong, independent ...</td>\n",
       "    </tr>\n",
       "    <tr>\n",
       "      <th>2</th>\n",
       "      <td>0</td>\n",
       "      <td>he probably just didn't want to read them beca...</td>\n",
       "      <td>23.0</td>\n",
       "      <td>he probably just didn't want to read them beca...</td>\n",
       "      <td>probably want read illegal read news media see...</td>\n",
       "    </tr>\n",
       "    <tr>\n",
       "      <th>3</th>\n",
       "      <td>0</td>\n",
       "      <td>it's like he's saying we're entering a post ge...</td>\n",
       "      <td>21.0</td>\n",
       "      <td>it's like he's saying we're entering a post ge...</td>\n",
       "      <td>like he's saying we're entering post gender so...</td>\n",
       "    </tr>\n",
       "    <tr>\n",
       "      <th>4</th>\n",
       "      <td>0</td>\n",
       "      <td>but it was clearly only dismissed because of d...</td>\n",
       "      <td>19.0</td>\n",
       "      <td>but it was clearly only dismissed because of d...</td>\n",
       "      <td>clearly dismissed death threats even though li...</td>\n",
       "    </tr>\n",
       "    <tr>\n",
       "      <th>...</th>\n",
       "      <td>...</td>\n",
       "      <td>...</td>\n",
       "      <td>...</td>\n",
       "      <td>...</td>\n",
       "      <td>...</td>\n",
       "    </tr>\n",
       "    <tr>\n",
       "      <th>42497</th>\n",
       "      <td>1</td>\n",
       "      <td>black ppl aren't expected to do anything, depe...</td>\n",
       "      <td>42.0</td>\n",
       "      <td>black ppl aren't expected to do anything, depe...</td>\n",
       "      <td>black ppl expected anything, depended anything...</td>\n",
       "    </tr>\n",
       "    <tr>\n",
       "      <th>42498</th>\n",
       "      <td>1</td>\n",
       "      <td>turner did not withhold his disappointment. Tu...</td>\n",
       "      <td>45.0</td>\n",
       "      <td>turner did not withhold his disappointment. tu...</td>\n",
       "      <td>turner withhold disappointment. turner called ...</td>\n",
       "    </tr>\n",
       "    <tr>\n",
       "      <th>42499</th>\n",
       "      <td>1</td>\n",
       "      <td>i swear to God. This dumb nigger bitch. I have...</td>\n",
       "      <td>20.0</td>\n",
       "      <td>i swear to god. this dumb nigger bitch. i have...</td>\n",
       "      <td>swear god. dumb nigger bitch. got bleach hair ...</td>\n",
       "    </tr>\n",
       "    <tr>\n",
       "      <th>42500</th>\n",
       "      <td>1</td>\n",
       "      <td>yea fuck you RT  IF YOURE A NIGGER FUCKING UNF...</td>\n",
       "      <td>15.0</td>\n",
       "      <td>yea fuck you rt  if youre a nigger fucking unf...</td>\n",
       "      <td>yea fuck rt youre nigger fucking unfollow me, ...</td>\n",
       "    </tr>\n",
       "    <tr>\n",
       "      <th>42501</th>\n",
       "      <td>1</td>\n",
       "      <td>bro. U gotta chill RT  Dog FUCK KP that dumb n...</td>\n",
       "      <td>14.0</td>\n",
       "      <td>bro. u gotta chill rt  dog fuck kp that dumb n...</td>\n",
       "      <td>bro. u gotta chill rt dog fuck kp dumb nigger ...</td>\n",
       "    </tr>\n",
       "  </tbody>\n",
       "</table>\n",
       "<p>42502 rows × 5 columns</p>\n",
       "</div>"
      ],
      "text/plain": [
       "       label                                    comment_cleaned  \\\n",
       "0          0  wow it is totally unreasonable to assume that ...   \n",
       "1          0  a WHITE FUCKIN MALE is out to destroy  strong,...   \n",
       "2          0  he probably just didn't want to read them beca...   \n",
       "3          0  it's like he's saying we're entering a post ge...   \n",
       "4          0  but it was clearly only dismissed because of d...   \n",
       "...      ...                                                ...   \n",
       "42497      1  black ppl aren't expected to do anything, depe...   \n",
       "42498      1  turner did not withhold his disappointment. Tu...   \n",
       "42499      1  i swear to God. This dumb nigger bitch. I have...   \n",
       "42500      1  yea fuck you RT  IF YOURE A NIGGER FUCKING UNF...   \n",
       "42501      1  bro. U gotta chill RT  Dog FUCK KP that dumb n...   \n",
       "\n",
       "       Words Per Tweet                              comment_cleaned_lower  \\\n",
       "0                 25.0  wow it is totally unreasonable to assume that ...   \n",
       "1                 18.0  a white fuckin male is out to destroy  strong,...   \n",
       "2                 23.0  he probably just didn't want to read them beca...   \n",
       "3                 21.0  it's like he's saying we're entering a post ge...   \n",
       "4                 19.0  but it was clearly only dismissed because of d...   \n",
       "...                ...                                                ...   \n",
       "42497             42.0  black ppl aren't expected to do anything, depe...   \n",
       "42498             45.0  turner did not withhold his disappointment. tu...   \n",
       "42499             20.0  i swear to god. this dumb nigger bitch. i have...   \n",
       "42500             15.0  yea fuck you rt  if youre a nigger fucking unf...   \n",
       "42501             14.0  bro. u gotta chill rt  dog fuck kp that dumb n...   \n",
       "\n",
       "                                 text_without_stop_words  \n",
       "0      wow totally unreasonable assume agency covered...  \n",
       "1      white fuckin male destroy strong, independent ...  \n",
       "2      probably want read illegal read news media see...  \n",
       "3      like he's saying we're entering post gender so...  \n",
       "4      clearly dismissed death threats even though li...  \n",
       "...                                                  ...  \n",
       "42497  black ppl expected anything, depended anything...  \n",
       "42498  turner withhold disappointment. turner called ...  \n",
       "42499  swear god. dumb nigger bitch. got bleach hair ...  \n",
       "42500  yea fuck rt youre nigger fucking unfollow me, ...  \n",
       "42501  bro. u gotta chill rt dog fuck kp dumb nigger ...  \n",
       "\n",
       "[42502 rows x 5 columns]"
      ]
     },
     "execution_count": 12,
     "metadata": {},
     "output_type": "execute_result"
    }
   ],
   "source": [
    "merged_df"
   ]
  },
  {
   "cell_type": "code",
   "execution_count": 13,
   "id": "1eb45b68",
   "metadata": {},
   "outputs": [],
   "source": [
    "#X = merged_df.drop(['label'], axis=1)\n",
    "X = merged_df['text_without_stop_words']\n",
    "y= merged_df['label']"
   ]
  },
  {
   "cell_type": "code",
   "execution_count": 14,
   "id": "6c1a9843",
   "metadata": {},
   "outputs": [],
   "source": [
    "X_train, X_test, y_train, y_test = train_test_split(X, y, test_size = 0.3, random_state = 0)"
   ]
  },
  {
   "cell_type": "code",
   "execution_count": 15,
   "id": "e7ca30fa",
   "metadata": {},
   "outputs": [
    {
     "data": {
      "text/plain": [
       "((29751,), (12751,))"
      ]
     },
     "execution_count": 15,
     "metadata": {},
     "output_type": "execute_result"
    }
   ],
   "source": [
    "X_train.shape, X_test.shape"
   ]
  },
  {
   "cell_type": "markdown",
   "id": "a5fab0f2",
   "metadata": {},
   "source": [
    "## Defining our baseline accuracy"
   ]
  },
  {
   "cell_type": "code",
   "execution_count": 16,
   "id": "51873644",
   "metadata": {},
   "outputs": [
    {
     "data": {
      "text/plain": [
       "1    9599\n",
       "0    3152\n",
       "Name: label, dtype: int64"
      ]
     },
     "execution_count": 16,
     "metadata": {},
     "output_type": "execute_result"
    }
   ],
   "source": [
    "y_test.value_counts()"
   ]
  },
  {
   "cell_type": "code",
   "execution_count": 17,
   "id": "922062b8",
   "metadata": {},
   "outputs": [
    {
     "name": "stdout",
     "output_type": "stream",
     "text": [
      "Baseline accuracy score: 0.1910\n"
     ]
    }
   ],
   "source": [
    "baseline_accuracy = (2435/(y_test.value_counts().sum()))\n",
    "print('Baseline accuracy score: {0:0.4f}'. format(baseline_accuracy))\n",
    "#our baseline accuracy is quite low because we took care of having balanced classes"
   ]
  },
  {
   "cell_type": "markdown",
   "id": "a7ee7706",
   "metadata": {},
   "source": [
    "## Vectorizer + Naives Bayes Pipeline"
   ]
  },
  {
   "cell_type": "code",
   "execution_count": 18,
   "id": "f8df3dec",
   "metadata": {},
   "outputs": [
    {
     "name": "stdout",
     "output_type": "stream",
     "text": [
      "average recall is 1.0\n",
      "average accuracy is 0.79\n",
      "average precision is 0.78\n"
     ]
    }
   ],
   "source": [
    "# Pipeline vectorizer + Naive Bayes\n",
    "pipeline_naive_bayes = make_pipeline(\n",
    "    TfidfVectorizer(), \n",
    "    MultinomialNB()\n",
    ")\n",
    "\n",
    "# Cross-validation\n",
    "cv_results = cross_validate(pipeline_naive_bayes, X_train, y_train, cv = 5, scoring = [\"recall\"])\n",
    "average_recall = cv_results[\"test_recall\"].mean()\n",
    "print(\"average recall is\", np.round(average_recall,2))\n",
    "\n",
    "cv_results = cross_validate(pipeline_naive_bayes, X_train, y_train, cv = 5, scoring = [\"accuracy\"])\n",
    "average_accuracy = cv_results[\"test_accuracy\"].mean()\n",
    "print(\"average accuracy is\", np.round(average_accuracy,2))\n",
    "\n",
    "cv_results = cross_validate(pipeline_naive_bayes, X_train, y_train, cv = 5, scoring = [\"precision\"])\n",
    "average_precision = cv_results[\"test_precision\"].mean()\n",
    "print(\"average precision is\", np.round(average_precision,2))"
   ]
  },
  {
   "cell_type": "code",
   "execution_count": 19,
   "id": "47c50e0e",
   "metadata": {},
   "outputs": [
    {
     "name": "stdout",
     "output_type": "stream",
     "text": [
      "Fitting 5 folds for each of 4 candidates, totalling 20 fits\n",
      "Best Score = 0.8728445272244336\n",
      "Best params = {'multinomialnb__alpha': 0.1, 'tfidfvectorizer__ngram_range': (1, 1)}\n"
     ]
    }
   ],
   "source": [
    "# Define the grid of parameters\n",
    "parameters = {\n",
    "    'tfidfvectorizer__ngram_range': ((1,1), (2,2)),\n",
    "    'multinomialnb__alpha': (0.1,1)\n",
    "}\n",
    "\n",
    "# Perform Grid Search\n",
    "grid_search = GridSearchCV(\n",
    "            pipeline_naive_bayes,\n",
    "            parameters,\n",
    "            scoring = \"accuracy\",\n",
    "            cv = 5,\n",
    "            n_jobs=-1,\n",
    "            verbose=1)\n",
    "\n",
    "grid_search.fit(X_train, y_train)\n",
    "\n",
    "# Best score\n",
    "print(f\"Best Score = {grid_search.best_score_}\")\n",
    "\n",
    "# Best params\n",
    "print(f\"Best params = {grid_search.best_params_}\")"
   ]
  },
  {
   "cell_type": "markdown",
   "id": "c9795f49",
   "metadata": {},
   "source": [
    "## Make a prediction 🔮"
   ]
  },
  {
   "cell_type": "code",
   "execution_count": 20,
   "id": "723654dc",
   "metadata": {},
   "outputs": [
    {
     "data": {
      "text/plain": [
       "array([1, 1, 1, ..., 1, 1, 1])"
      ]
     },
     "execution_count": 20,
     "metadata": {},
     "output_type": "execute_result"
    }
   ],
   "source": [
    "pipeline_naive_bayes.fit(X_train, y_train)\n",
    "y_pred = pipeline_naive_bayes.predict(X_test)\n",
    "\n",
    "y_pred"
   ]
  },
  {
   "cell_type": "markdown",
   "id": "29a1ed05",
   "metadata": {},
   "source": [
    "## Check the accuracy score"
   ]
  },
  {
   "cell_type": "code",
   "execution_count": 21,
   "id": "9d866de1",
   "metadata": {},
   "outputs": [
    {
     "name": "stdout",
     "output_type": "stream",
     "text": [
      "Model accuracy score: 0.8032\n"
     ]
    }
   ],
   "source": [
    "print('Model accuracy score: {0:0.4f}'. format(accuracy_score(y_test, y_pred)))\n",
    "\n",
    "#(Here, y_test are the true class labels and y_pred are the predicted class labels in the test-set.)"
   ]
  },
  {
   "cell_type": "code",
   "execution_count": 22,
   "id": "174f03d5",
   "metadata": {},
   "outputs": [
    {
     "name": "stdout",
     "output_type": "stream",
     "text": [
      "Training-set accuracy score: 0.8490\n"
     ]
    }
   ],
   "source": [
    "#Now, let's compare the train-set and test-set accuracy to check for overfitting.\n",
    "\n",
    "y_pred_train = pipeline_naive_bayes.predict(X_train)\n",
    "y_pred_train\n",
    "\n",
    "print('Training-set accuracy score: {0:0.4f}'. format(accuracy_score(y_train, y_pred_train)))"
   ]
  },
  {
   "cell_type": "code",
   "execution_count": 23,
   "id": "b4312d37",
   "metadata": {},
   "outputs": [
    {
     "name": "stdout",
     "output_type": "stream",
     "text": [
      "Training set score: 0.8490\n",
      "Test set score: 0.8032\n"
     ]
    }
   ],
   "source": [
    "##Check for overfitting and underfitting\n",
    "\n",
    "print('Training set score: {:.4f}'.format(pipeline_naive_bayes.score(X_train, y_train)))\n",
    "\n",
    "print('Test set score: {:.4f}'.format(pipeline_naive_bayes.score(X_test, y_test)))"
   ]
  },
  {
   "cell_type": "markdown",
   "id": "93ed4056",
   "metadata": {},
   "source": [
    "The training-set accuracy score is 0.85 while the test-set accuracy to be 0.80. \n",
    "These two values are consistent, there is no sign of overfitting."
   ]
  },
  {
   "cell_type": "markdown",
   "id": "bcd49227",
   "metadata": {},
   "source": [
    "## Confusion matrix"
   ]
  },
  {
   "cell_type": "markdown",
   "id": "cb4d10dd",
   "metadata": {},
   "source": [
    "Let's try to understand which label was confused by the model with which other label, let's see what are the true positives,\n",
    "the true negatives, the false positives and the false negatives."
   ]
  },
  {
   "cell_type": "code",
   "execution_count": 24,
   "id": "eb26aa9a",
   "metadata": {},
   "outputs": [
    {
     "name": "stdout",
     "output_type": "stream",
     "text": [
      "Confusion matrix\n",
      "\n",
      " [[ 648 2504]\n",
      " [   6 9593]]\n",
      "\n",
      "True Positives(TP) =  648\n",
      "\n",
      "True Negatives(TN) =  9593\n",
      "\n",
      "False Positives(FP) =  2504\n",
      "\n",
      "False Negatives(FN) =  6\n"
     ]
    }
   ],
   "source": [
    "cm = confusion_matrix(y_test, y_pred)\n",
    "\n",
    "print('Confusion matrix\\n\\n', cm)\n",
    "\n",
    "print('\\nTrue Positives(TP) = ', cm[0,0])\n",
    "\n",
    "print('\\nTrue Negatives(TN) = ', cm[1,1])\n",
    "\n",
    "print('\\nFalse Positives(FP) = ', cm[0,1])\n",
    "\n",
    "print('\\nFalse Negatives(FN) = ', cm[1,0])"
   ]
  },
  {
   "cell_type": "code",
   "execution_count": 25,
   "id": "2e3cc07f",
   "metadata": {},
   "outputs": [
    {
     "data": {
      "text/plain": [
       "<AxesSubplot:>"
      ]
     },
     "execution_count": 25,
     "metadata": {},
     "output_type": "execute_result"
    },
    {
     "data": {
      "image/png": "[encoded data removed]",
      "text/plain": [
       "<Figure size 640x480 with 2 Axes>"
      ]
     },
     "metadata": {},
     "output_type": "display_data"
    }
   ],
   "source": [
    "# visualizing confusion matrix with seaborn heatmap\n",
    "\n",
    "cm_matrix = pd.DataFrame(data=cm, columns=['Actual Positive:1', 'Actual Negative:0'], \n",
    "                                 index=['Predict Positive:1', 'Predict Negative:0'])\n",
    "\n",
    "sns.heatmap(cm_matrix, annot=True, fmt='d', cmap='YlGnBu')"
   ]
  },
  {
   "cell_type": "code",
   "execution_count": 26,
   "id": "e62662d5",
   "metadata": {},
   "outputs": [
    {
     "data": {
      "text/plain": [
       "<AxesSubplot:>"
      ]
     },
     "execution_count": 26,
     "metadata": {},
     "output_type": "execute_result"
    },
    {
     "data": {
      "image/png": "[encoded data removed]",
      "text/plain": [
       "<Figure size 640x480 with 2 Axes>"
      ]
     },
     "metadata": {},
     "output_type": "display_data"
    }
   ],
   "source": [
    "## Another confusion matrix with our labels, more understandable\n",
    "cm_matrix = pd.DataFrame(data=cm, columns=['Actual Cyberbullying', 'Actual Sarcasm'], \n",
    "                                 index=['Predict Cyberbullying', 'Predict Sarcasm'])\n",
    "\n",
    "sns.heatmap(cm_matrix, annot=True, fmt='d', cmap='YlGnBu')"
   ]
  },
  {
   "cell_type": "markdown",
   "id": "640c87c1",
   "metadata": {},
   "source": [
    "We have quiet high false positives (sarcastic comments predicted as cyberbullying). But the most important in our task is that we have very little number of false negatives (6), meaning bullying comments being classified as sarcasm."
   ]
  },
  {
   "cell_type": "markdown",
   "id": "c0665b19",
   "metadata": {},
   "source": [
    "## Making prediction on new sentences"
   ]
  },
  {
   "cell_type": "code",
   "execution_count": 29,
   "id": "02067e90",
   "metadata": {},
   "outputs": [
    {
     "name": "stdout",
     "output_type": "stream",
     "text": [
      "[1]\n"
     ]
    }
   ],
   "source": [
    "# custom function\n",
    "def my_prediction(my_sentence, model):\n",
    "    #all_categories_names = np.array(merged_df.label)\n",
    "    prediction = pipeline_naive_bayes.predict([my_sentence])\n",
    "    return prediction\n",
    "\n",
    "my_sentence = \"I HATE YOU dumb ... swear to god\"\n",
    "print(my_prediction(my_sentence, pipeline_naive_bayes))"
   ]
  },
  {
   "cell_type": "code",
   "execution_count": 30,
   "id": "74da43d7",
   "metadata": {},
   "outputs": [
    {
     "name": "stdout",
     "output_type": "stream",
     "text": [
      "[0]\n"
     ]
    }
   ],
   "source": [
    "my_sentence = \"well yeah\"\n",
    "print(my_prediction(my_sentence, pipeline_naive_bayes))"
   ]
  },
  {
   "cell_type": "markdown",
   "id": "7b47a498",
   "metadata": {},
   "source": [
    "## Saving the modified dataset as a new csv file"
   ]
  },
  {
   "cell_type": "code",
   "execution_count": 32,
   "id": "0d134d39",
   "metadata": {},
   "outputs": [],
   "source": [
    "merged_df.to_csv('merged_all_modified_csv.csv')"
   ]
  }
 ],
 "metadata": {
  "kernelspec": {
   "display_name": "Python 3 (ipykernel)",
   "language": "python",
   "name": "python3"
  },
  "language_info": {
   "codemirror_mode": {
    "name": "ipython",
    "version": 3
   },
   "file_extension": ".py",
   "mimetype": "text/x-python",
   "name": "python",
   "nbconvert_exporter": "python",
   "pygments_lexer": "ipython3",
   "version": "3.10.6"
  },
  "toc": {
   "base_numbering": 1,
   "nav_menu": {},
   "number_sections": true,
   "sideBar": true,
   "skip_h1_title": false,
   "title_cell": "Table of Contents",
   "title_sidebar": "Contents",
   "toc_cell": false,
   "toc_position": {},
   "toc_section_display": true,
   "toc_window_display": false
  }
 },
 "nbformat": 4,
 "nbformat_minor": 5
}
