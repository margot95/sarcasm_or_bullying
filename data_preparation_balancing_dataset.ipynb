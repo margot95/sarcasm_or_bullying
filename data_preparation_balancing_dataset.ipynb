{
 "cells": [
  {
   "cell_type": "markdown",
   "id": "e30520fc",
   "metadata": {},
   "source": [
    "# Uploading 2 datasets from Kaggle (one on sarcasm comments from Reddit and the other on cyberbullying tweets, from Twitter) and merging them"
   ]
  },
  {
   "cell_type": "markdown",
   "id": "1d2dd752",
   "metadata": {},
   "source": [
    "In this notebook, we are doing EDA and data preparation to later have one dataset with comments from social networks being labeled either \"sarcasm\" or \"cyberbullying\", and to train a model (or several models and then compare them!) to distinguish between those labels and let a model eventually classify a new comment into sarcasm or bullying (classification task)."
   ]
  },
  {
   "cell_type": "code",
   "execution_count": 1,
   "id": "1011132d",
   "metadata": {},
   "outputs": [],
   "source": [
    "import pandas as pd\n",
    "import numpy as np\n",
    "import re"
   ]
  },
  {
   "cell_type": "markdown",
   "id": "0e1c2192",
   "metadata": {
    "heading_collapsed": true
   },
   "source": [
    "## Let's start with the Reddit dataset - sarcasm"
   ]
  },
  {
   "cell_type": "code",
   "execution_count": 2,
   "id": "5aa19770",
   "metadata": {
    "hidden": true
   },
   "outputs": [
    {
     "data": {
      "text/html": [
       "<div>\n",
       "<style scoped>\n",
       "    .dataframe tbody tr th:only-of-type {\n",
       "        vertical-align: middle;\n",
       "    }\n",
       "\n",
       "    .dataframe tbody tr th {\n",
       "        vertical-align: top;\n",
       "    }\n",
       "\n",
       "    .dataframe thead th {\n",
       "        text-align: right;\n",
       "    }\n",
       "</style>\n",
       "<table border=\"1\" class=\"dataframe\">\n",
       "  <thead>\n",
       "    <tr style=\"text-align: right;\">\n",
       "      <th></th>\n",
       "      <th>label</th>\n",
       "      <th>comment</th>\n",
       "      <th>author</th>\n",
       "      <th>subreddit</th>\n",
       "      <th>score</th>\n",
       "      <th>ups</th>\n",
       "      <th>downs</th>\n",
       "      <th>date</th>\n",
       "      <th>created_utc</th>\n",
       "      <th>parent_comment</th>\n",
       "    </tr>\n",
       "  </thead>\n",
       "  <tbody>\n",
       "    <tr>\n",
       "      <th>0</th>\n",
       "      <td>0</td>\n",
       "      <td>NC and NH.</td>\n",
       "      <td>Trumpbart</td>\n",
       "      <td>politics</td>\n",
       "      <td>2</td>\n",
       "      <td>-1</td>\n",
       "      <td>-1</td>\n",
       "      <td>2016-10</td>\n",
       "      <td>2016-10-16 23:55:23</td>\n",
       "      <td>Yeah, I get that argument. At this point, I'd ...</td>\n",
       "    </tr>\n",
       "    <tr>\n",
       "      <th>1</th>\n",
       "      <td>0</td>\n",
       "      <td>You do know west teams play against west teams...</td>\n",
       "      <td>Shbshb906</td>\n",
       "      <td>nba</td>\n",
       "      <td>-4</td>\n",
       "      <td>-1</td>\n",
       "      <td>-1</td>\n",
       "      <td>2016-11</td>\n",
       "      <td>2016-11-01 00:24:10</td>\n",
       "      <td>The blazers and Mavericks (The wests 5 and 6 s...</td>\n",
       "    </tr>\n",
       "    <tr>\n",
       "      <th>2</th>\n",
       "      <td>0</td>\n",
       "      <td>They were underdogs earlier today, but since G...</td>\n",
       "      <td>Creepeth</td>\n",
       "      <td>nfl</td>\n",
       "      <td>3</td>\n",
       "      <td>3</td>\n",
       "      <td>0</td>\n",
       "      <td>2016-09</td>\n",
       "      <td>2016-09-22 21:45:37</td>\n",
       "      <td>They're favored to win.</td>\n",
       "    </tr>\n",
       "    <tr>\n",
       "      <th>3</th>\n",
       "      <td>0</td>\n",
       "      <td>This meme isn't funny none of the \"new york ni...</td>\n",
       "      <td>icebrotha</td>\n",
       "      <td>BlackPeopleTwitter</td>\n",
       "      <td>-8</td>\n",
       "      <td>-1</td>\n",
       "      <td>-1</td>\n",
       "      <td>2016-10</td>\n",
       "      <td>2016-10-18 21:03:47</td>\n",
       "      <td>deadass don't kill my buzz</td>\n",
       "    </tr>\n",
       "    <tr>\n",
       "      <th>4</th>\n",
       "      <td>0</td>\n",
       "      <td>I could use one of those tools.</td>\n",
       "      <td>cush2push</td>\n",
       "      <td>MaddenUltimateTeam</td>\n",
       "      <td>6</td>\n",
       "      <td>-1</td>\n",
       "      <td>-1</td>\n",
       "      <td>2016-12</td>\n",
       "      <td>2016-12-30 17:00:13</td>\n",
       "      <td>Yep can confirm I saw the tool they use for th...</td>\n",
       "    </tr>\n",
       "    <tr>\n",
       "      <th>5</th>\n",
       "      <td>0</td>\n",
       "      <td>I don't pay attention to her, but as long as s...</td>\n",
       "      <td>only7inches</td>\n",
       "      <td>AskReddit</td>\n",
       "      <td>0</td>\n",
       "      <td>0</td>\n",
       "      <td>0</td>\n",
       "      <td>2016-09</td>\n",
       "      <td>2016-09-02 10:35:08</td>\n",
       "      <td>do you find ariana grande sexy ?</td>\n",
       "    </tr>\n",
       "    <tr>\n",
       "      <th>6</th>\n",
       "      <td>0</td>\n",
       "      <td>Trick or treating in general is just weird...</td>\n",
       "      <td>only7inches</td>\n",
       "      <td>AskReddit</td>\n",
       "      <td>1</td>\n",
       "      <td>-1</td>\n",
       "      <td>-1</td>\n",
       "      <td>2016-10</td>\n",
       "      <td>2016-10-23 21:43:03</td>\n",
       "      <td>What's your weird or unsettling Trick or Treat...</td>\n",
       "    </tr>\n",
       "    <tr>\n",
       "      <th>7</th>\n",
       "      <td>0</td>\n",
       "      <td>Blade Mastery+Masamune or GTFO!</td>\n",
       "      <td>P0k3rm4s7</td>\n",
       "      <td>FFBraveExvius</td>\n",
       "      <td>2</td>\n",
       "      <td>-1</td>\n",
       "      <td>-1</td>\n",
       "      <td>2016-10</td>\n",
       "      <td>2016-10-13 21:13:55</td>\n",
       "      <td>Probably Sephiroth. I refuse to taint his grea...</td>\n",
       "    </tr>\n",
       "    <tr>\n",
       "      <th>8</th>\n",
       "      <td>0</td>\n",
       "      <td>You don't have to, you have a good build, buy ...</td>\n",
       "      <td>SoupToPots</td>\n",
       "      <td>pcmasterrace</td>\n",
       "      <td>1</td>\n",
       "      <td>-1</td>\n",
       "      <td>-1</td>\n",
       "      <td>2016-10</td>\n",
       "      <td>2016-10-27 19:11:06</td>\n",
       "      <td>What to upgrade? I have $500 to spend (mainly ...</td>\n",
       "    </tr>\n",
       "    <tr>\n",
       "      <th>9</th>\n",
       "      <td>0</td>\n",
       "      <td>I would love to see him at lolla.</td>\n",
       "      <td>chihawks</td>\n",
       "      <td>Lollapalooza</td>\n",
       "      <td>2</td>\n",
       "      <td>-1</td>\n",
       "      <td>-1</td>\n",
       "      <td>2016-11</td>\n",
       "      <td>2016-11-21 23:39:12</td>\n",
       "      <td>Probably count Kanye out Since the rest of his...</td>\n",
       "    </tr>\n",
       "  </tbody>\n",
       "</table>\n",
       "</div>"
      ],
      "text/plain": [
       "   label                                            comment       author  \\\n",
       "0      0                                         NC and NH.    Trumpbart   \n",
       "1      0  You do know west teams play against west teams...    Shbshb906   \n",
       "2      0  They were underdogs earlier today, but since G...     Creepeth   \n",
       "3      0  This meme isn't funny none of the \"new york ni...    icebrotha   \n",
       "4      0                    I could use one of those tools.    cush2push   \n",
       "5      0  I don't pay attention to her, but as long as s...  only7inches   \n",
       "6      0      Trick or treating in general is just weird...  only7inches   \n",
       "7      0                    Blade Mastery+Masamune or GTFO!    P0k3rm4s7   \n",
       "8      0  You don't have to, you have a good build, buy ...   SoupToPots   \n",
       "9      0                  I would love to see him at lolla.     chihawks   \n",
       "\n",
       "            subreddit  score  ups  downs     date          created_utc  \\\n",
       "0            politics      2   -1     -1  2016-10  2016-10-16 23:55:23   \n",
       "1                 nba     -4   -1     -1  2016-11  2016-11-01 00:24:10   \n",
       "2                 nfl      3    3      0  2016-09  2016-09-22 21:45:37   \n",
       "3  BlackPeopleTwitter     -8   -1     -1  2016-10  2016-10-18 21:03:47   \n",
       "4  MaddenUltimateTeam      6   -1     -1  2016-12  2016-12-30 17:00:13   \n",
       "5           AskReddit      0    0      0  2016-09  2016-09-02 10:35:08   \n",
       "6           AskReddit      1   -1     -1  2016-10  2016-10-23 21:43:03   \n",
       "7       FFBraveExvius      2   -1     -1  2016-10  2016-10-13 21:13:55   \n",
       "8        pcmasterrace      1   -1     -1  2016-10  2016-10-27 19:11:06   \n",
       "9        Lollapalooza      2   -1     -1  2016-11  2016-11-21 23:39:12   \n",
       "\n",
       "                                      parent_comment  \n",
       "0  Yeah, I get that argument. At this point, I'd ...  \n",
       "1  The blazers and Mavericks (The wests 5 and 6 s...  \n",
       "2                            They're favored to win.  \n",
       "3                         deadass don't kill my buzz  \n",
       "4  Yep can confirm I saw the tool they use for th...  \n",
       "5                   do you find ariana grande sexy ?  \n",
       "6  What's your weird or unsettling Trick or Treat...  \n",
       "7  Probably Sephiroth. I refuse to taint his grea...  \n",
       "8  What to upgrade? I have $500 to spend (mainly ...  \n",
       "9  Probably count Kanye out Since the rest of his...  "
      ]
     },
     "execution_count": 2,
     "metadata": {},
     "output_type": "execute_result"
    }
   ],
   "source": [
    "sarcasm_df_0 = pd.read_csv('train-balanced-sarcasm.csv')\n",
    "sarcasm_df_0.head(10)"
   ]
  },
  {
   "cell_type": "code",
   "execution_count": 3,
   "id": "df04e215",
   "metadata": {
    "hidden": true
   },
   "outputs": [
    {
     "data": {
      "text/html": [
       "<div>\n",
       "<style scoped>\n",
       "    .dataframe tbody tr th:only-of-type {\n",
       "        vertical-align: middle;\n",
       "    }\n",
       "\n",
       "    .dataframe tbody tr th {\n",
       "        vertical-align: top;\n",
       "    }\n",
       "\n",
       "    .dataframe thead th {\n",
       "        text-align: right;\n",
       "    }\n",
       "</style>\n",
       "<table border=\"1\" class=\"dataframe\">\n",
       "  <thead>\n",
       "    <tr style=\"text-align: right;\">\n",
       "      <th></th>\n",
       "      <th>label</th>\n",
       "      <th>comment</th>\n",
       "    </tr>\n",
       "  </thead>\n",
       "  <tbody>\n",
       "    <tr>\n",
       "      <th>33</th>\n",
       "      <td>sarcasm</td>\n",
       "      <td>But they'll have all those reviews!</td>\n",
       "    </tr>\n",
       "    <tr>\n",
       "      <th>44</th>\n",
       "      <td>sarcasm</td>\n",
       "      <td>wow it is totally unreasonable to assume that ...</td>\n",
       "    </tr>\n",
       "    <tr>\n",
       "      <th>45</th>\n",
       "      <td>sarcasm</td>\n",
       "      <td>Ho ho ho... But Melania said that there is no ...</td>\n",
       "    </tr>\n",
       "    <tr>\n",
       "      <th>66</th>\n",
       "      <td>sarcasm</td>\n",
       "      <td>I can't wait until @potus starts a twitter war...</td>\n",
       "    </tr>\n",
       "    <tr>\n",
       "      <th>69</th>\n",
       "      <td>sarcasm</td>\n",
       "      <td>gotta love the teachers who give exams on the ...</td>\n",
       "    </tr>\n",
       "    <tr>\n",
       "      <th>...</th>\n",
       "      <td>...</td>\n",
       "      <td>...</td>\n",
       "    </tr>\n",
       "    <tr>\n",
       "      <th>1010821</th>\n",
       "      <td>sarcasm</td>\n",
       "      <td>I'm sure that Iran and N. Korea have the techn...</td>\n",
       "    </tr>\n",
       "    <tr>\n",
       "      <th>1010822</th>\n",
       "      <td>sarcasm</td>\n",
       "      <td>whatever you do, don't vote green!</td>\n",
       "    </tr>\n",
       "    <tr>\n",
       "      <th>1010823</th>\n",
       "      <td>sarcasm</td>\n",
       "      <td>Perhaps this is an atheist conspiracy to make ...</td>\n",
       "    </tr>\n",
       "    <tr>\n",
       "      <th>1010824</th>\n",
       "      <td>sarcasm</td>\n",
       "      <td>The Slavs got their own country - it is called...</td>\n",
       "    </tr>\n",
       "    <tr>\n",
       "      <th>1010825</th>\n",
       "      <td>sarcasm</td>\n",
       "      <td>values, as in capitalism .. there is good mone...</td>\n",
       "    </tr>\n",
       "  </tbody>\n",
       "</table>\n",
       "<p>505368 rows × 2 columns</p>\n",
       "</div>"
      ],
      "text/plain": [
       "           label                                            comment\n",
       "33       sarcasm                But they'll have all those reviews!\n",
       "44       sarcasm  wow it is totally unreasonable to assume that ...\n",
       "45       sarcasm  Ho ho ho... But Melania said that there is no ...\n",
       "66       sarcasm  I can't wait until @potus starts a twitter war...\n",
       "69       sarcasm  gotta love the teachers who give exams on the ...\n",
       "...          ...                                                ...\n",
       "1010821  sarcasm  I'm sure that Iran and N. Korea have the techn...\n",
       "1010822  sarcasm                 whatever you do, don't vote green!\n",
       "1010823  sarcasm  Perhaps this is an atheist conspiracy to make ...\n",
       "1010824  sarcasm  The Slavs got their own country - it is called...\n",
       "1010825  sarcasm  values, as in capitalism .. there is good mone...\n",
       "\n",
       "[505368 rows x 2 columns]"
      ]
     },
     "execution_count": 3,
     "metadata": {},
     "output_type": "execute_result"
    }
   ],
   "source": [
    "sarcasm_df = sarcasm_df_0[['label', 'comment']]\n",
    "sarcasm_df = sarcasm_df[sarcasm_df['label'] == 1]\n",
    "sarcasm_df['label'] = 'sarcasm'\n",
    "sarcasm_df = sarcasm_df.dropna()\n",
    "sarcasm_df"
   ]
  },
  {
   "cell_type": "code",
   "execution_count": 4,
   "id": "e67c0145",
   "metadata": {
    "hidden": true
   },
   "outputs": [
    {
     "data": {
      "text/html": [
       "<div>\n",
       "<style scoped>\n",
       "    .dataframe tbody tr th:only-of-type {\n",
       "        vertical-align: middle;\n",
       "    }\n",
       "\n",
       "    .dataframe tbody tr th {\n",
       "        vertical-align: top;\n",
       "    }\n",
       "\n",
       "    .dataframe thead th {\n",
       "        text-align: right;\n",
       "    }\n",
       "</style>\n",
       "<table border=\"1\" class=\"dataframe\">\n",
       "  <thead>\n",
       "    <tr style=\"text-align: right;\">\n",
       "      <th></th>\n",
       "      <th>label</th>\n",
       "      <th>comment</th>\n",
       "    </tr>\n",
       "  </thead>\n",
       "  <tbody>\n",
       "    <tr>\n",
       "      <th>count</th>\n",
       "      <td>505368</td>\n",
       "      <td>505368</td>\n",
       "    </tr>\n",
       "    <tr>\n",
       "      <th>unique</th>\n",
       "      <td>1</td>\n",
       "      <td>486357</td>\n",
       "    </tr>\n",
       "    <tr>\n",
       "      <th>top</th>\n",
       "      <td>sarcasm</td>\n",
       "      <td>You forgot the</td>\n",
       "    </tr>\n",
       "    <tr>\n",
       "      <th>freq</th>\n",
       "      <td>505368</td>\n",
       "      <td>1451</td>\n",
       "    </tr>\n",
       "  </tbody>\n",
       "</table>\n",
       "</div>"
      ],
      "text/plain": [
       "          label         comment\n",
       "count    505368          505368\n",
       "unique        1          486357\n",
       "top     sarcasm  You forgot the\n",
       "freq     505368            1451"
      ]
     },
     "execution_count": 4,
     "metadata": {},
     "output_type": "execute_result"
    }
   ],
   "source": [
    "sarcasm_df.describe()"
   ]
  },
  {
   "cell_type": "code",
   "execution_count": 5,
   "id": "3d64aed4",
   "metadata": {
    "hidden": true
   },
   "outputs": [
    {
     "name": "stdout",
     "output_type": "stream",
     "text": [
      "<class 'pandas.core.frame.DataFrame'>\n",
      "Int64Index: 505368 entries, 33 to 1010825\n",
      "Data columns (total 2 columns):\n",
      " #   Column   Non-Null Count   Dtype \n",
      "---  ------   --------------   ----- \n",
      " 0   label    505368 non-null  object\n",
      " 1   comment  505368 non-null  object\n",
      "dtypes: object(2)\n",
      "memory usage: 11.6+ MB\n"
     ]
    }
   ],
   "source": [
    "sarcasm_df.info()"
   ]
  },
  {
   "cell_type": "code",
   "execution_count": 6,
   "id": "0e474999",
   "metadata": {
    "hidden": true
   },
   "outputs": [
    {
     "data": {
      "text/plain": [
       "56.44981083091925"
      ]
     },
     "execution_count": 6,
     "metadata": {},
     "output_type": "execute_result"
    }
   ],
   "source": [
    "sarcasm_df['comment'].str.len().mean()   "
   ]
  },
  {
   "cell_type": "code",
   "execution_count": 7,
   "id": "d9661b80",
   "metadata": {
    "hidden": true
   },
   "outputs": [],
   "source": [
    "#delete from sarcasm dataset every comment > 280 characters (to be comparable to Twitter dataset)\n",
    "sarcasm_df = sarcasm_df[sarcasm_df['comment'].str.len() <= 280]"
   ]
  },
  {
   "cell_type": "code",
   "execution_count": 8,
   "id": "fd982f64",
   "metadata": {
    "hidden": true
   },
   "outputs": [
    {
     "name": "stdout",
     "output_type": "stream",
     "text": [
      "So far, we have filtered out 506202 comments from the sarcasm dataset.\n"
     ]
    }
   ],
   "source": [
    "sarcasm_df.describe()\n",
    "print(\"So far, we have filtered out\",(sarcasm_df_0.shape[0] - sarcasm_df.shape[0]), \"comments from the sarcasm dataset.\")"
   ]
  },
  {
   "cell_type": "markdown",
   "id": "0957e15b",
   "metadata": {
    "heading_collapsed": true
   },
   "source": [
    "## Now on to the cyberbullying dataset...\n",
    "Some EDA before merging the two datasets together"
   ]
  },
  {
   "cell_type": "code",
   "execution_count": 9,
   "id": "35fc9de8",
   "metadata": {
    "hidden": true
   },
   "outputs": [],
   "source": [
    "cyberbullying_df_0 = pd.read_csv('cyberbullying_tweets.csv')"
   ]
  },
  {
   "cell_type": "code",
   "execution_count": 10,
   "id": "62b587a4",
   "metadata": {
    "hidden": true
   },
   "outputs": [
    {
     "data": {
      "text/html": [
       "<div>\n",
       "<style scoped>\n",
       "    .dataframe tbody tr th:only-of-type {\n",
       "        vertical-align: middle;\n",
       "    }\n",
       "\n",
       "    .dataframe tbody tr th {\n",
       "        vertical-align: top;\n",
       "    }\n",
       "\n",
       "    .dataframe thead th {\n",
       "        text-align: right;\n",
       "    }\n",
       "</style>\n",
       "<table border=\"1\" class=\"dataframe\">\n",
       "  <thead>\n",
       "    <tr style=\"text-align: right;\">\n",
       "      <th></th>\n",
       "      <th>tweet_text</th>\n",
       "      <th>cyberbullying_type</th>\n",
       "    </tr>\n",
       "  </thead>\n",
       "  <tbody>\n",
       "    <tr>\n",
       "      <th>39206</th>\n",
       "      <td>You look like the type that would drop out of ...</td>\n",
       "      <td>age</td>\n",
       "    </tr>\n",
       "    <tr>\n",
       "      <th>18612</th>\n",
       "      <td>@SevilZadeh What does ISIS do that the prophet...</td>\n",
       "      <td>religion</td>\n",
       "    </tr>\n",
       "    <tr>\n",
       "      <th>17198</th>\n",
       "      <td>@ImranKhanPTI @OfficialDGISPR Some Idiots prea...</td>\n",
       "      <td>religion</td>\n",
       "    </tr>\n",
       "    <tr>\n",
       "      <th>25206</th>\n",
       "      <td>He could have laid her stupid ass out with one...</td>\n",
       "      <td>other_cyberbullying</td>\n",
       "    </tr>\n",
       "    <tr>\n",
       "      <th>25982</th>\n",
       "      <td>What the shit.</td>\n",
       "      <td>other_cyberbullying</td>\n",
       "    </tr>\n",
       "    <tr>\n",
       "      <th>35237</th>\n",
       "      <td>I’ve been doing homecoming hair on girls that ...</td>\n",
       "      <td>age</td>\n",
       "    </tr>\n",
       "    <tr>\n",
       "      <th>23520</th>\n",
       "      <td>neogreek Christian woman : I. Your RELIGION on...</td>\n",
       "      <td>religion</td>\n",
       "    </tr>\n",
       "    <tr>\n",
       "      <th>39881</th>\n",
       "      <td>@Lynch_NIGGERs awh ain't that cute . She's a p...</td>\n",
       "      <td>ethnicity</td>\n",
       "    </tr>\n",
       "    <tr>\n",
       "      <th>16711</th>\n",
       "      <td>lol yeah. Before Islam all I know it was calle...</td>\n",
       "      <td>religion</td>\n",
       "    </tr>\n",
       "    <tr>\n",
       "      <th>45765</th>\n",
       "      <td>http://twitpic.com/bb03qw RT @Colton_Zappe: Fu...</td>\n",
       "      <td>ethnicity</td>\n",
       "    </tr>\n",
       "  </tbody>\n",
       "</table>\n",
       "</div>"
      ],
      "text/plain": [
       "                                              tweet_text   cyberbullying_type\n",
       "39206  You look like the type that would drop out of ...                  age\n",
       "18612  @SevilZadeh What does ISIS do that the prophet...             religion\n",
       "17198  @ImranKhanPTI @OfficialDGISPR Some Idiots prea...             religion\n",
       "25206  He could have laid her stupid ass out with one...  other_cyberbullying\n",
       "25982                                     What the shit.  other_cyberbullying\n",
       "35237  I’ve been doing homecoming hair on girls that ...                  age\n",
       "23520  neogreek Christian woman : I. Your RELIGION on...             religion\n",
       "39881  @Lynch_NIGGERs awh ain't that cute . She's a p...            ethnicity\n",
       "16711  lol yeah. Before Islam all I know it was calle...             religion\n",
       "45765  http://twitpic.com/bb03qw RT @Colton_Zappe: Fu...            ethnicity"
      ]
     },
     "execution_count": 10,
     "metadata": {},
     "output_type": "execute_result"
    }
   ],
   "source": [
    "cyberbullying_df_0.sample(10)"
   ]
  },
  {
   "cell_type": "code",
   "execution_count": 11,
   "id": "2681c517",
   "metadata": {
    "hidden": true
   },
   "outputs": [
    {
     "data": {
      "text/plain": [
       "(47692, 2)"
      ]
     },
     "execution_count": 11,
     "metadata": {},
     "output_type": "execute_result"
    }
   ],
   "source": [
    "cyberbullying_df_0.shape"
   ]
  },
  {
   "cell_type": "code",
   "execution_count": 12,
   "id": "5ecac2b4",
   "metadata": {
    "hidden": true
   },
   "outputs": [
    {
     "data": {
      "text/plain": [
       "religion               7998\n",
       "age                    7992\n",
       "gender                 7973\n",
       "ethnicity              7961\n",
       "not_cyberbullying      7945\n",
       "other_cyberbullying    7823\n",
       "Name: cyberbullying_type, dtype: int64"
      ]
     },
     "execution_count": 12,
     "metadata": {},
     "output_type": "execute_result"
    }
   ],
   "source": [
    "cyberbullying_df_0['cyberbullying_type'].value_counts()"
   ]
  },
  {
   "cell_type": "code",
   "execution_count": 13,
   "id": "0d6d88bf",
   "metadata": {
    "hidden": true
   },
   "outputs": [],
   "source": [
    "#reading quickly through the \"other_cyberbullying\" column, to decide if we should keep it or not (is it really\n",
    "# bullying that cannot be under other labels or is it a label that was used to say \"not bullying\")\n",
    "other_cyberbullying_df = cyberbullying_df_0[cyberbullying_df_0['cyberbullying_type'] == 'other_cyberbullying']"
   ]
  },
  {
   "cell_type": "code",
   "execution_count": 14,
   "id": "a77c18c3",
   "metadata": {
    "hidden": true
   },
   "outputs": [
    {
     "data": {
      "text/plain": [
       "31714             @a_man_in_black i can't help but wonder if she bothered actually *talking* to kiva about her concerns before calling her out\n",
       "31715                                                                                 @mattstratton dude stop snapping at me what is your deal\n",
       "31716                                                   RT @randi_ebooks: Need to get Google to stop trying to recruit me for an SRE position?\n",
       "31717                                                                         @SlaunchaMan interesting, tho, that it still found most of them.\n",
       "31718                           @frankencomics @BRKeogh @Aqualec With added \"feminazi\", \"white knight\" and \"professional victims\" terminology.\n",
       "31719                                         Wal-Mart is Instagram Heaven! #walmart #coon #westvirginia #almostheaven https://t.co/Zav64hhGDG\n",
       "31720                                                           @letselenasmile i dnt get it when ppl bully u dnt stand u have to do something\n",
       "31721           @leighalexander thank you for writing http://t.co/8l8NhWye3E. i have found many uses screencapping the bit about \"fair enough\"\n",
       "31722                   INSOMNIA-P lease let me be,Why you being such a bully?I Refuse to let you be the Boss of me!! #Downs2ndS leepingPill#.\n",
       "31723                                                           I envy people who started their vacay. I hope you step on a broken lego piece.\n",
       "31724             OK, that's enough poking the bear. Have a lot to do today. My most difficult decision is going to be what to wear. &gt;.&gt;\n",
       "31725                                                                                                          @8BitBecca I'm only one person.\n",
       "31726                                                                     if u use the term feminazi u can just go ahead and stay away from me\n",
       "31727                                                                            @margaretavania @frandlee :D :D demen bully frandy!!! wkwk xD\n",
       "31728                                        @liammckenna1 he isnt! he likes Jedward and darryn clearly hates them + is bullying towards them!\n",
       "31729                                                                                       @Nayadrikj GRANDMA WAS BORN IN EAGERVILLE ILLINOIS\n",
       "31730                                                                                                   @JWYoder perl requires little logic :P\n",
       "31731                                                                                                        @ashleylynch oh gosh, i hope not.\n",
       "31732                   @0xjared @m_m_myers @Zython86 @ChrisWarcraft :P fwiw, i'm usually pretty careful about calling for the head of anyone.\n",
       "31733                                                                      @rmd1023 driving the opposite direction. :) heading down to irvine.\n",
       "31734                                                                                                     @kufr666 @blockbot no, that's @oolon\n",
       "31735                                                                      @AriMelber why are you giving these idiots airtime. #GrowingUpTrump\n",
       "31736                                                                              I am right now watching Enforcers defend Chums on facebook.\n",
       "31737                                                                                      ✨✨✨ misandry is not a word iOS can autocomplete ✨✨✨\n",
       "31738    @Bazmati2020 @sofs_mom I think poor @Annjj is being harassed and bullied by a complete nobber via Twitter. Hope she's not on her own,\n",
       "Name: tweet_text, dtype: object"
      ]
     },
     "execution_count": 14,
     "metadata": {},
     "output_type": "execute_result"
    }
   ],
   "source": [
    "pd.options.display.max_colwidth = 280\n",
    "other_cyberbullying_df.tweet_text.tail(25)\n",
    "#so yes, I decide to get rid of this column...most comments not being necessarily bullying in my opinion"
   ]
  },
  {
   "cell_type": "markdown",
   "id": "cd5f188c",
   "metadata": {
    "hidden": true
   },
   "source": [
    "Keeping only the relevant columns and labels"
   ]
  },
  {
   "cell_type": "code",
   "execution_count": 15,
   "id": "03a1063d",
   "metadata": {
    "hidden": true
   },
   "outputs": [],
   "source": [
    "cyberbullying_df = cyberbullying_df_0[cyberbullying_df_0['cyberbullying_type'].isin(['gender', 'religion', 'age', 'ethnicity'])]"
   ]
  },
  {
   "cell_type": "code",
   "execution_count": 16,
   "id": "3023a511",
   "metadata": {
    "hidden": true
   },
   "outputs": [
    {
     "data": {
      "text/plain": [
       "array(['gender', 'religion', 'age', 'ethnicity'], dtype=object)"
      ]
     },
     "execution_count": 16,
     "metadata": {},
     "output_type": "execute_result"
    }
   ],
   "source": [
    "cyberbullying_df['cyberbullying_type'].unique()"
   ]
  },
  {
   "cell_type": "code",
   "execution_count": 17,
   "id": "47e35dfb",
   "metadata": {
    "hidden": true
   },
   "outputs": [
    {
     "name": "stdout",
     "output_type": "stream",
     "text": [
      "So far, we have filtered out 15768 comments from the cyberbullying dataset.\n"
     ]
    },
    {
     "data": {
      "text/html": [
       "<div>\n",
       "<style scoped>\n",
       "    .dataframe tbody tr th:only-of-type {\n",
       "        vertical-align: middle;\n",
       "    }\n",
       "\n",
       "    .dataframe tbody tr th {\n",
       "        vertical-align: top;\n",
       "    }\n",
       "\n",
       "    .dataframe thead th {\n",
       "        text-align: right;\n",
       "    }\n",
       "</style>\n",
       "<table border=\"1\" class=\"dataframe\">\n",
       "  <thead>\n",
       "    <tr style=\"text-align: right;\">\n",
       "      <th></th>\n",
       "      <th>tweet_text</th>\n",
       "      <th>cyberbullying_type</th>\n",
       "    </tr>\n",
       "  </thead>\n",
       "  <tbody>\n",
       "    <tr>\n",
       "      <th>7945</th>\n",
       "      <td>rape is real..zvasiyana nema jokes about being drunk or being gay or being lesbian...rape is not ones choice or wish..thtz where the sensitivity is coming from</td>\n",
       "      <td>gender</td>\n",
       "    </tr>\n",
       "    <tr>\n",
       "      <th>7946</th>\n",
       "      <td>You never saw any celebrity say anything like this for Obama: B Maher Incest Rape 'Joke' S Colbert Gay 'joke' K Griffin beheading 'joke'</td>\n",
       "      <td>gender</td>\n",
       "    </tr>\n",
       "    <tr>\n",
       "      <th>7947</th>\n",
       "      <td>@ManhattaKnight I mean he's gay, but he uses gendered slurs and makes rape jokes</td>\n",
       "      <td>gender</td>\n",
       "    </tr>\n",
       "    <tr>\n",
       "      <th>7948</th>\n",
       "      <td>RT @Raul_Novoa16: @AliciaBernardez @Alex_Aim @_mecaesmal  feminazi</td>\n",
       "      <td>gender</td>\n",
       "    </tr>\n",
       "    <tr>\n",
       "      <th>7949</th>\n",
       "      <td>Rape is rape. And the fact that I read one post about a guy getting raped and the comments are calling him gay and he should be happy...? stfu and I really hope no one takes this as a joke tf you own no ones body. You have no rights to do whatever you want to someone else.</td>\n",
       "      <td>gender</td>\n",
       "    </tr>\n",
       "    <tr>\n",
       "      <th>...</th>\n",
       "      <td>...</td>\n",
       "      <td>...</td>\n",
       "    </tr>\n",
       "    <tr>\n",
       "      <th>47687</th>\n",
       "      <td>Black ppl aren't expected to do anything, depended on for anything. Yet free to participate, work, enjoy the freedom of humans all across this globe. If you waste your energy on the past you will be wasting it for building the future.</td>\n",
       "      <td>ethnicity</td>\n",
       "    </tr>\n",
       "    <tr>\n",
       "      <th>47688</th>\n",
       "      <td>Turner did not withhold his disappointment. Turner called the court an “abominable conclave of negro hating demons” (with one exception) who “issued another decree that colored men and women must be driven into Jim Crow cars whenever it suits the whim of any white community.”</td>\n",
       "      <td>ethnicity</td>\n",
       "    </tr>\n",
       "    <tr>\n",
       "      <th>47689</th>\n",
       "      <td>I swear to God. This dumb nigger bitch. I have got to bleach my hair reeeeeal fuckin' soon. D:&amp;lt; FUCK.</td>\n",
       "      <td>ethnicity</td>\n",
       "    </tr>\n",
       "    <tr>\n",
       "      <th>47690</th>\n",
       "      <td>Yea fuck you RT @therealexel: IF YOURE A NIGGER FUCKING UNFOLLOW ME, FUCKING DUMB NIGGERS.</td>\n",
       "      <td>ethnicity</td>\n",
       "    </tr>\n",
       "    <tr>\n",
       "      <th>47691</th>\n",
       "      <td>Bro. U gotta chill RT @CHILLShrammy: Dog FUCK KP that dumb nigger bitch lmao</td>\n",
       "      <td>ethnicity</td>\n",
       "    </tr>\n",
       "  </tbody>\n",
       "</table>\n",
       "<p>31924 rows × 2 columns</p>\n",
       "</div>"
      ],
      "text/plain": [
       "                                                                                                                                                                                                                                                                                 tweet_text  \\\n",
       "7945                                                                                                                        rape is real..zvasiyana nema jokes about being drunk or being gay or being lesbian...rape is not ones choice or wish..thtz where the sensitivity is coming from   \n",
       "7946                                                                                                                                               You never saw any celebrity say anything like this for Obama: B Maher Incest Rape 'Joke' S Colbert Gay 'joke' K Griffin beheading 'joke'   \n",
       "7947                                                                                                                                                                                                       @ManhattaKnight I mean he's gay, but he uses gendered slurs and makes rape jokes   \n",
       "7948                                                                                                                                                                                                                     RT @Raul_Novoa16: @AliciaBernardez @Alex_Aim @_mecaesmal  feminazi   \n",
       "7949      Rape is rape. And the fact that I read one post about a guy getting raped and the comments are calling him gay and he should be happy...? stfu and I really hope no one takes this as a joke tf you own no ones body. You have no rights to do whatever you want to someone else.   \n",
       "...                                                                                                                                                                                                                                                                                     ...   \n",
       "47687                                            Black ppl aren't expected to do anything, depended on for anything. Yet free to participate, work, enjoy the freedom of humans all across this globe. If you waste your energy on the past you will be wasting it for building the future.   \n",
       "47688  Turner did not withhold his disappointment. Turner called the court an “abominable conclave of negro hating demons” (with one exception) who “issued another decree that colored men and women must be driven into Jim Crow cars whenever it suits the whim of any white community.”   \n",
       "47689                                                                                                                                                                              I swear to God. This dumb nigger bitch. I have got to bleach my hair reeeeeal fuckin' soon. D:&lt; FUCK.   \n",
       "47690                                                                                                                                                                                            Yea fuck you RT @therealexel: IF YOURE A NIGGER FUCKING UNFOLLOW ME, FUCKING DUMB NIGGERS.   \n",
       "47691                                                                                                                                                                                                          Bro. U gotta chill RT @CHILLShrammy: Dog FUCK KP that dumb nigger bitch lmao   \n",
       "\n",
       "      cyberbullying_type  \n",
       "7945              gender  \n",
       "7946              gender  \n",
       "7947              gender  \n",
       "7948              gender  \n",
       "7949              gender  \n",
       "...                  ...  \n",
       "47687          ethnicity  \n",
       "47688          ethnicity  \n",
       "47689          ethnicity  \n",
       "47690          ethnicity  \n",
       "47691          ethnicity  \n",
       "\n",
       "[31924 rows x 2 columns]"
      ]
     },
     "execution_count": 17,
     "metadata": {},
     "output_type": "execute_result"
    }
   ],
   "source": [
    "print(\"So far, we have filtered out\",(cyberbullying_df_0.shape[0] - cyberbullying_df.shape[0]), \"comments from the cyberbullying dataset.\")\n",
    "cyberbullying_df"
   ]
  },
  {
   "cell_type": "code",
   "execution_count": 18,
   "id": "e8edb9ec",
   "metadata": {
    "hidden": true
   },
   "outputs": [
    {
     "name": "stderr",
     "output_type": "stream",
     "text": [
      "/tmp/ipykernel_1517/1974539096.py:1: SettingWithCopyWarning: \n",
      "A value is trying to be set on a copy of a slice from a DataFrame.\n",
      "Try using .loc[row_indexer,col_indexer] = value instead\n",
      "\n",
      "See the caveats in the documentation: https://pandas.pydata.org/pandas-docs/stable/user_guide/indexing.html#returning-a-view-versus-a-copy\n",
      "  cyberbullying_df['label'] = cyberbullying_df['cyberbullying_type']\n",
      "/tmp/ipykernel_1517/1974539096.py:2: SettingWithCopyWarning: \n",
      "A value is trying to be set on a copy of a slice from a DataFrame.\n",
      "Try using .loc[row_indexer,col_indexer] = value instead\n",
      "\n",
      "See the caveats in the documentation: https://pandas.pydata.org/pandas-docs/stable/user_guide/indexing.html#returning-a-view-versus-a-copy\n",
      "  cyberbullying_df['comment'] = cyberbullying_df['tweet_text']\n"
     ]
    },
    {
     "data": {
      "text/html": [
       "<div>\n",
       "<style scoped>\n",
       "    .dataframe tbody tr th:only-of-type {\n",
       "        vertical-align: middle;\n",
       "    }\n",
       "\n",
       "    .dataframe tbody tr th {\n",
       "        vertical-align: top;\n",
       "    }\n",
       "\n",
       "    .dataframe thead th {\n",
       "        text-align: right;\n",
       "    }\n",
       "</style>\n",
       "<table border=\"1\" class=\"dataframe\">\n",
       "  <thead>\n",
       "    <tr style=\"text-align: right;\">\n",
       "      <th></th>\n",
       "      <th>label</th>\n",
       "      <th>comment</th>\n",
       "    </tr>\n",
       "  </thead>\n",
       "  <tbody>\n",
       "    <tr>\n",
       "      <th>7945</th>\n",
       "      <td>gender</td>\n",
       "      <td>rape is real..zvasiyana nema jokes about being drunk or being gay or being lesbian...rape is not ones choice or wish..thtz where the sensitivity is coming from</td>\n",
       "    </tr>\n",
       "    <tr>\n",
       "      <th>7946</th>\n",
       "      <td>gender</td>\n",
       "      <td>You never saw any celebrity say anything like this for Obama: B Maher Incest Rape 'Joke' S Colbert Gay 'joke' K Griffin beheading 'joke'</td>\n",
       "    </tr>\n",
       "    <tr>\n",
       "      <th>7947</th>\n",
       "      <td>gender</td>\n",
       "      <td>@ManhattaKnight I mean he's gay, but he uses gendered slurs and makes rape jokes</td>\n",
       "    </tr>\n",
       "    <tr>\n",
       "      <th>7948</th>\n",
       "      <td>gender</td>\n",
       "      <td>RT @Raul_Novoa16: @AliciaBernardez @Alex_Aim @_mecaesmal  feminazi</td>\n",
       "    </tr>\n",
       "    <tr>\n",
       "      <th>7949</th>\n",
       "      <td>gender</td>\n",
       "      <td>Rape is rape. And the fact that I read one post about a guy getting raped and the comments are calling him gay and he should be happy...? stfu and I really hope no one takes this as a joke tf you own no ones body. You have no rights to do whatever you want to someone else.</td>\n",
       "    </tr>\n",
       "    <tr>\n",
       "      <th>...</th>\n",
       "      <td>...</td>\n",
       "      <td>...</td>\n",
       "    </tr>\n",
       "    <tr>\n",
       "      <th>47687</th>\n",
       "      <td>ethnicity</td>\n",
       "      <td>Black ppl aren't expected to do anything, depended on for anything. Yet free to participate, work, enjoy the freedom of humans all across this globe. If you waste your energy on the past you will be wasting it for building the future.</td>\n",
       "    </tr>\n",
       "    <tr>\n",
       "      <th>47688</th>\n",
       "      <td>ethnicity</td>\n",
       "      <td>Turner did not withhold his disappointment. Turner called the court an “abominable conclave of negro hating demons” (with one exception) who “issued another decree that colored men and women must be driven into Jim Crow cars whenever it suits the whim of any white community.”</td>\n",
       "    </tr>\n",
       "    <tr>\n",
       "      <th>47689</th>\n",
       "      <td>ethnicity</td>\n",
       "      <td>I swear to God. This dumb nigger bitch. I have got to bleach my hair reeeeeal fuckin' soon. D:&amp;lt; FUCK.</td>\n",
       "    </tr>\n",
       "    <tr>\n",
       "      <th>47690</th>\n",
       "      <td>ethnicity</td>\n",
       "      <td>Yea fuck you RT @therealexel: IF YOURE A NIGGER FUCKING UNFOLLOW ME, FUCKING DUMB NIGGERS.</td>\n",
       "    </tr>\n",
       "    <tr>\n",
       "      <th>47691</th>\n",
       "      <td>ethnicity</td>\n",
       "      <td>Bro. U gotta chill RT @CHILLShrammy: Dog FUCK KP that dumb nigger bitch lmao</td>\n",
       "    </tr>\n",
       "  </tbody>\n",
       "</table>\n",
       "<p>31924 rows × 2 columns</p>\n",
       "</div>"
      ],
      "text/plain": [
       "           label  \\\n",
       "7945      gender   \n",
       "7946      gender   \n",
       "7947      gender   \n",
       "7948      gender   \n",
       "7949      gender   \n",
       "...          ...   \n",
       "47687  ethnicity   \n",
       "47688  ethnicity   \n",
       "47689  ethnicity   \n",
       "47690  ethnicity   \n",
       "47691  ethnicity   \n",
       "\n",
       "                                                                                                                                                                                                                                                                                    comment  \n",
       "7945                                                                                                                        rape is real..zvasiyana nema jokes about being drunk or being gay or being lesbian...rape is not ones choice or wish..thtz where the sensitivity is coming from  \n",
       "7946                                                                                                                                               You never saw any celebrity say anything like this for Obama: B Maher Incest Rape 'Joke' S Colbert Gay 'joke' K Griffin beheading 'joke'  \n",
       "7947                                                                                                                                                                                                       @ManhattaKnight I mean he's gay, but he uses gendered slurs and makes rape jokes  \n",
       "7948                                                                                                                                                                                                                     RT @Raul_Novoa16: @AliciaBernardez @Alex_Aim @_mecaesmal  feminazi  \n",
       "7949      Rape is rape. And the fact that I read one post about a guy getting raped and the comments are calling him gay and he should be happy...? stfu and I really hope no one takes this as a joke tf you own no ones body. You have no rights to do whatever you want to someone else.  \n",
       "...                                                                                                                                                                                                                                                                                     ...  \n",
       "47687                                            Black ppl aren't expected to do anything, depended on for anything. Yet free to participate, work, enjoy the freedom of humans all across this globe. If you waste your energy on the past you will be wasting it for building the future.  \n",
       "47688  Turner did not withhold his disappointment. Turner called the court an “abominable conclave of negro hating demons” (with one exception) who “issued another decree that colored men and women must be driven into Jim Crow cars whenever it suits the whim of any white community.”  \n",
       "47689                                                                                                                                                                              I swear to God. This dumb nigger bitch. I have got to bleach my hair reeeeeal fuckin' soon. D:&lt; FUCK.  \n",
       "47690                                                                                                                                                                                            Yea fuck you RT @therealexel: IF YOURE A NIGGER FUCKING UNFOLLOW ME, FUCKING DUMB NIGGERS.  \n",
       "47691                                                                                                                                                                                                          Bro. U gotta chill RT @CHILLShrammy: Dog FUCK KP that dumb nigger bitch lmao  \n",
       "\n",
       "[31924 rows x 2 columns]"
      ]
     },
     "execution_count": 18,
     "metadata": {},
     "output_type": "execute_result"
    }
   ],
   "source": [
    "cyberbullying_df['label'] = cyberbullying_df['cyberbullying_type']\n",
    "cyberbullying_df['comment'] = cyberbullying_df['tweet_text']\n",
    "cyberbullying_df = cyberbullying_df[['label','comment']]\n",
    "cyberbullying_df"
   ]
  },
  {
   "cell_type": "markdown",
   "id": "d2fb5d5b",
   "metadata": {
    "hidden": true
   },
   "source": [
    "### About a very long comment in Twitter dataset - cyberbullying"
   ]
  },
  {
   "cell_type": "code",
   "execution_count": 19,
   "id": "15bf5497",
   "metadata": {
    "hidden": true
   },
   "outputs": [
    {
     "data": {
      "text/plain": [
       "1869"
      ]
     },
     "execution_count": 19,
     "metadata": {},
     "output_type": "execute_result"
    }
   ],
   "source": [
    "cyberbullying_df['comment'].str.len().max()"
   ]
  },
  {
   "cell_type": "code",
   "execution_count": 20,
   "id": "f0cd5ea5",
   "metadata": {
    "hidden": true
   },
   "outputs": [
    {
     "data": {
      "text/html": [
       "<div>\n",
       "<style scoped>\n",
       "    .dataframe tbody tr th:only-of-type {\n",
       "        vertical-align: middle;\n",
       "    }\n",
       "\n",
       "    .dataframe tbody tr th {\n",
       "        vertical-align: top;\n",
       "    }\n",
       "\n",
       "    .dataframe thead th {\n",
       "        text-align: right;\n",
       "    }\n",
       "</style>\n",
       "<table border=\"1\" class=\"dataframe\">\n",
       "  <thead>\n",
       "    <tr style=\"text-align: right;\">\n",
       "      <th></th>\n",
       "      <th>label</th>\n",
       "      <th>comment</th>\n",
       "    </tr>\n",
       "  </thead>\n",
       "  <tbody>\n",
       "    <tr>\n",
       "      <th>44035</th>\n",
       "      <td>ethnicity</td>\n",
       "      <td>You so black and white trying to live like a nigger... Pahahahaha... Common is dumb as fuck!\\r\\nit's short for huntsman you dumb ass and he'll ya i am fuck gays and niggers #TrumpTrain#fuckgays\\r\\nU were the first one to inspire me to dream...dream no matter how foolish those dreams seem to others. Thank u so much for that. Ur work has inspired all of us &amp;amp; will continue to inspire generations to come. RIP Dr. Kalam\\r\\nI wasn't comparing anything, Saying that a book is being used to opress lgbt people now and black people in the past isn't a comparison It's a statement that they both got oppressed due to the same book , not trying to compare struggles but saying the Bible is the common denom.\\r\\n@in_JEpan: Fuck @FemaleJawan for almost tripping me in the Hallway, DUMB HO NIGGER BISH. &amp;lt; you sound a little mad. Lmaoooo.\\r\\nLOL ! this bitch looks dumb as FUCK now that she already agreed to marry this nigger but then find's out he fucked 20 other bitches.\\r\\nYoung black voters aren’t afraid to call by not on his big the past and current stance against anything that helps communities of color Young Black Voters Don’t Want Joe Biden! https://youtu.be/N3IUV-4Y8mc\\r\\n@PacManCannon @MichelleDBeadle pacman shut the fuck up .if she called u a dumb nigger u would be all up in arms.so chill the fuck out\\r\\n@babyStephiee yes the fuck you did! all them niggers were like stephanie said to jump yo ass!da fuck! you sound dumb as fuck!\\r\\nRT @Curvables: Ugly niggas be like http://t.co/XcsLPOdqsh\\r\\n@iNeedSomePercs @RayJones215 STUPID FUCKING NIGGERS. MACLIN LOST THAT GAME. KAFKA WAS 7 OF 8 U DUMB NIGGER: Maaan Fuck Off my TL u Troll!!!!\\r\\ni hope the world aint judging niggers based on hip hop.. cause we looking dumb as fuck right about now.\\r\\n“@_Nekole_ To see a nigga on twitter retweet a white chick saying fuck Obama, dumb ass nigger\" makes me ...</td>\n",
       "    </tr>\n",
       "  </tbody>\n",
       "</table>\n",
       "</div>"
      ],
      "text/plain": [
       "           label  \\\n",
       "44035  ethnicity   \n",
       "\n",
       "                                                                                                                                                                                                                                                                                                                                                                                                                                                                                                                                                                                                                                                                                                                                                                                                                                                                                                                                                                                                                                                                                                                                                                                                                                                                                                                                                                                                                                                                                                                                                                                                                                                                                                                                                                                                                                                                                                                                            comment  \n",
       "44035  You so black and white trying to live like a nigger... Pahahahaha... Common is dumb as fuck!\\r\\nit's short for huntsman you dumb ass and he'll ya i am fuck gays and niggers #TrumpTrain#fuckgays\\r\\nU were the first one to inspire me to dream...dream no matter how foolish those dreams seem to others. Thank u so much for that. Ur work has inspired all of us &amp; will continue to inspire generations to come. RIP Dr. Kalam\\r\\nI wasn't comparing anything, Saying that a book is being used to opress lgbt people now and black people in the past isn't a comparison It's a statement that they both got oppressed due to the same book , not trying to compare struggles but saying the Bible is the common denom.\\r\\n@in_JEpan: Fuck @FemaleJawan for almost tripping me in the Hallway, DUMB HO NIGGER BISH. &lt; you sound a little mad. Lmaoooo.\\r\\nLOL ! this bitch looks dumb as FUCK now that she already agreed to marry this nigger but then find's out he fucked 20 other bitches.\\r\\nYoung black voters aren’t afraid to call by not on his big the past and current stance against anything that helps communities of color Young Black Voters Don’t Want Joe Biden! https://youtu.be/N3IUV-4Y8mc\\r\\n@PacManCannon @MichelleDBeadle pacman shut the fuck up .if she called u a dumb nigger u would be all up in arms.so chill the fuck out\\r\\n@babyStephiee yes the fuck you did! all them niggers were like stephanie said to jump yo ass!da fuck! you sound dumb as fuck!\\r\\nRT @Curvables: Ugly niggas be like http://t.co/XcsLPOdqsh\\r\\n@iNeedSomePercs @RayJones215 STUPID FUCKING NIGGERS. MACLIN LOST THAT GAME. KAFKA WAS 7 OF 8 U DUMB NIGGER: Maaan Fuck Off my TL u Troll!!!!\\r\\ni hope the world aint judging niggers based on hip hop.. cause we looking dumb as fuck right about now.\\r\\n“@_Nekole_ To see a nigga on twitter retweet a white chick saying fuck Obama, dumb ass nigger\" makes me ...  "
      ]
     },
     "execution_count": 20,
     "metadata": {},
     "output_type": "execute_result"
    }
   ],
   "source": [
    "pd.options.display.max_colwidth = cyberbullying_df['comment'].str.len().max()\n",
    "cyberbullying_df[cyberbullying_df['comment'].str.len() == cyberbullying_df['comment'].str.len().max()]"
   ]
  },
  {
   "cell_type": "code",
   "execution_count": 21,
   "id": "797cc685",
   "metadata": {
    "hidden": true
   },
   "outputs": [
    {
     "data": {
      "text/html": [
       "<div>\n",
       "<style scoped>\n",
       "    .dataframe tbody tr th:only-of-type {\n",
       "        vertical-align: middle;\n",
       "    }\n",
       "\n",
       "    .dataframe tbody tr th {\n",
       "        vertical-align: top;\n",
       "    }\n",
       "\n",
       "    .dataframe thead th {\n",
       "        text-align: right;\n",
       "    }\n",
       "</style>\n",
       "<table border=\"1\" class=\"dataframe\">\n",
       "  <thead>\n",
       "    <tr style=\"text-align: right;\">\n",
       "      <th></th>\n",
       "      <th>comment</th>\n",
       "      <th>cyberbullying_type</th>\n",
       "    </tr>\n",
       "  </thead>\n",
       "  <tbody>\n",
       "    <tr>\n",
       "      <th>7945</th>\n",
       "      <td>rape is real..zvasiyana nema jokes about being drunk or being gay or being lesbian...rape is not ones choice or wish..thtz where the sensitivity is coming from</td>\n",
       "      <td>ethnicity</td>\n",
       "    </tr>\n",
       "    <tr>\n",
       "      <th>7946</th>\n",
       "      <td>You never saw any celebrity say anything like this for Obama: B Maher Incest Rape 'Joke' S Colbert Gay 'joke' K Griffin beheading 'joke'</td>\n",
       "      <td>ethnicity</td>\n",
       "    </tr>\n",
       "    <tr>\n",
       "      <th>7947</th>\n",
       "      <td>@ManhattaKnight I mean he's gay, but he uses gendered slurs and makes rape jokes</td>\n",
       "      <td>ethnicity</td>\n",
       "    </tr>\n",
       "    <tr>\n",
       "      <th>7948</th>\n",
       "      <td>RT @Raul_Novoa16: @AliciaBernardez @Alex_Aim @_mecaesmal  feminazi</td>\n",
       "      <td>ethnicity</td>\n",
       "    </tr>\n",
       "    <tr>\n",
       "      <th>7949</th>\n",
       "      <td>Rape is rape. And the fact that I read one post about a guy getting raped and the comments are calling him gay and he should be happy...? stfu and I really hope no one takes this as a joke tf you own no ones body. You have no rights to do whatever you want to someone else.</td>\n",
       "      <td>ethnicity</td>\n",
       "    </tr>\n",
       "    <tr>\n",
       "      <th>...</th>\n",
       "      <td>...</td>\n",
       "      <td>...</td>\n",
       "    </tr>\n",
       "    <tr>\n",
       "      <th>47687</th>\n",
       "      <td>Black ppl aren't expected to do anything, depended on for anything. Yet free to participate, work, enjoy the freedom of humans all across this globe. If you waste your energy on the past you will be wasting it for building the future.</td>\n",
       "      <td>ethnicity</td>\n",
       "    </tr>\n",
       "    <tr>\n",
       "      <th>47688</th>\n",
       "      <td>Turner did not withhold his disappointment. Turner called the court an “abominable conclave of negro hating demons” (with one exception) who “issued another decree that colored men and women must be driven into Jim Crow cars whenever it suits the whim of any white community.”</td>\n",
       "      <td>ethnicity</td>\n",
       "    </tr>\n",
       "    <tr>\n",
       "      <th>47689</th>\n",
       "      <td>I swear to God. This dumb nigger bitch. I have got to bleach my hair reeeeeal fuckin' soon. D:&amp;lt; FUCK.</td>\n",
       "      <td>ethnicity</td>\n",
       "    </tr>\n",
       "    <tr>\n",
       "      <th>47690</th>\n",
       "      <td>Yea fuck you RT @therealexel: IF YOURE A NIGGER FUCKING UNFOLLOW ME, FUCKING DUMB NIGGERS.</td>\n",
       "      <td>ethnicity</td>\n",
       "    </tr>\n",
       "    <tr>\n",
       "      <th>47691</th>\n",
       "      <td>Bro. U gotta chill RT @CHILLShrammy: Dog FUCK KP that dumb nigger bitch lmao</td>\n",
       "      <td>ethnicity</td>\n",
       "    </tr>\n",
       "  </tbody>\n",
       "</table>\n",
       "<p>31924 rows × 2 columns</p>\n",
       "</div>"
      ],
      "text/plain": [
       "                                                                                                                                                                                                                                                                                    comment  \\\n",
       "7945                                                                                                                        rape is real..zvasiyana nema jokes about being drunk or being gay or being lesbian...rape is not ones choice or wish..thtz where the sensitivity is coming from   \n",
       "7946                                                                                                                                               You never saw any celebrity say anything like this for Obama: B Maher Incest Rape 'Joke' S Colbert Gay 'joke' K Griffin beheading 'joke'   \n",
       "7947                                                                                                                                                                                                       @ManhattaKnight I mean he's gay, but he uses gendered slurs and makes rape jokes   \n",
       "7948                                                                                                                                                                                                                     RT @Raul_Novoa16: @AliciaBernardez @Alex_Aim @_mecaesmal  feminazi   \n",
       "7949      Rape is rape. And the fact that I read one post about a guy getting raped and the comments are calling him gay and he should be happy...? stfu and I really hope no one takes this as a joke tf you own no ones body. You have no rights to do whatever you want to someone else.   \n",
       "...                                                                                                                                                                                                                                                                                     ...   \n",
       "47687                                            Black ppl aren't expected to do anything, depended on for anything. Yet free to participate, work, enjoy the freedom of humans all across this globe. If you waste your energy on the past you will be wasting it for building the future.   \n",
       "47688  Turner did not withhold his disappointment. Turner called the court an “abominable conclave of negro hating demons” (with one exception) who “issued another decree that colored men and women must be driven into Jim Crow cars whenever it suits the whim of any white community.”   \n",
       "47689                                                                                                                                                                              I swear to God. This dumb nigger bitch. I have got to bleach my hair reeeeeal fuckin' soon. D:&lt; FUCK.   \n",
       "47690                                                                                                                                                                                            Yea fuck you RT @therealexel: IF YOURE A NIGGER FUCKING UNFOLLOW ME, FUCKING DUMB NIGGERS.   \n",
       "47691                                                                                                                                                                                                          Bro. U gotta chill RT @CHILLShrammy: Dog FUCK KP that dumb nigger bitch lmao   \n",
       "\n",
       "      cyberbullying_type  \n",
       "7945           ethnicity  \n",
       "7946           ethnicity  \n",
       "7947           ethnicity  \n",
       "7948           ethnicity  \n",
       "7949           ethnicity  \n",
       "...                  ...  \n",
       "47687          ethnicity  \n",
       "47688          ethnicity  \n",
       "47689          ethnicity  \n",
       "47690          ethnicity  \n",
       "47691          ethnicity  \n",
       "\n",
       "[31924 rows x 2 columns]"
      ]
     },
     "execution_count": 21,
     "metadata": {},
     "output_type": "execute_result"
    }
   ],
   "source": [
    "#Split the strings on the \"\\r\\n\" characters\n",
    "split_df = cyberbullying_df['comment'].str.split('\\r\\n')\n",
    "# delete rows containing '\\r\\n' \n",
    "cyberbullying_df = cyberbullying_df[~cyberbullying_df.comment.str.contains('\\r\\n')]\n",
    "split_df = pd.DataFrame(split_df)\n",
    "split_df['comment'] = split_df['comment'].str.join(',')  #convert each line to string\n",
    "split_df['cyberbullying_type'] = 'ethnicity' #reestablish the label\n",
    "split_df"
   ]
  },
  {
   "cell_type": "code",
   "execution_count": 22,
   "id": "5c857672",
   "metadata": {
    "hidden": true
   },
   "outputs": [
    {
     "data": {
      "text/plain": [
       "<bound method DataFrame.info of                                                                                                                                                                                                                                                                                     comment  \\\n",
       "7945                                                                                                                        rape is real..zvasiyana nema jokes about being drunk or being gay or being lesbian...rape is not ones choice or wish..thtz where the sensitivity is coming from   \n",
       "7946                                                                                                                                               You never saw any celebrity say anything like this for Obama: B Maher Incest Rape 'Joke' S Colbert Gay 'joke' K Griffin beheading 'joke'   \n",
       "7947                                                                                                                                                                                                       @ManhattaKnight I mean he's gay, but he uses gendered slurs and makes rape jokes   \n",
       "7948                                                                                                                                                                                                                     RT @Raul_Novoa16: @AliciaBernardez @Alex_Aim @_mecaesmal  feminazi   \n",
       "7949      Rape is rape. And the fact that I read one post about a guy getting raped and the comments are calling him gay and he should be happy...? stfu and I really hope no one takes this as a joke tf you own no ones body. You have no rights to do whatever you want to someone else.   \n",
       "...                                                                                                                                                                                                                                                                                     ...   \n",
       "47687                                            Black ppl aren't expected to do anything, depended on for anything. Yet free to participate, work, enjoy the freedom of humans all across this globe. If you waste your energy on the past you will be wasting it for building the future.   \n",
       "47688  Turner did not withhold his disappointment. Turner called the court an “abominable conclave of negro hating demons” (with one exception) who “issued another decree that colored men and women must be driven into Jim Crow cars whenever it suits the whim of any white community.”   \n",
       "47689                                                                                                                                                                              I swear to God. This dumb nigger bitch. I have got to bleach my hair reeeeeal fuckin' soon. D:&lt; FUCK.   \n",
       "47690                                                                                                                                                                                            Yea fuck you RT @therealexel: IF YOURE A NIGGER FUCKING UNFOLLOW ME, FUCKING DUMB NIGGERS.   \n",
       "47691                                                                                                                                                                                                          Bro. U gotta chill RT @CHILLShrammy: Dog FUCK KP that dumb nigger bitch lmao   \n",
       "\n",
       "      cyberbullying_type  \n",
       "7945           ethnicity  \n",
       "7946           ethnicity  \n",
       "7947           ethnicity  \n",
       "7948           ethnicity  \n",
       "7949           ethnicity  \n",
       "...                  ...  \n",
       "47687          ethnicity  \n",
       "47688          ethnicity  \n",
       "47689          ethnicity  \n",
       "47690          ethnicity  \n",
       "47691          ethnicity  \n",
       "\n",
       "[31924 rows x 2 columns]>"
      ]
     },
     "execution_count": 22,
     "metadata": {},
     "output_type": "execute_result"
    }
   ],
   "source": [
    "split_df.info"
   ]
  },
  {
   "cell_type": "markdown",
   "id": "6d568c29",
   "metadata": {
    "hidden": true
   },
   "source": [
    "--> Ok, we understood that the very long comment was not additional comments but just a cell that repeated comments that were entered in the CSV on individual rows already. So we just need to get rid of this one cell and keep the rest.\n"
   ]
  },
  {
   "cell_type": "code",
   "execution_count": 23,
   "id": "508c88e0",
   "metadata": {
    "hidden": true
   },
   "outputs": [],
   "source": [
    "#cyberbullying_df.drop(index=44035, inplace=True)\n",
    "cyberbullying_df = cyberbullying_df[cyberbullying_df['comment'].str.len() < cyberbullying_df['comment'].str.len().max()]\n"
   ]
  },
  {
   "cell_type": "code",
   "execution_count": 24,
   "id": "0cef6375",
   "metadata": {
    "hidden": true
   },
   "outputs": [
    {
     "data": {
      "text/html": [
       "<div>\n",
       "<style scoped>\n",
       "    .dataframe tbody tr th:only-of-type {\n",
       "        vertical-align: middle;\n",
       "    }\n",
       "\n",
       "    .dataframe tbody tr th {\n",
       "        vertical-align: top;\n",
       "    }\n",
       "\n",
       "    .dataframe thead th {\n",
       "        text-align: right;\n",
       "    }\n",
       "</style>\n",
       "<table border=\"1\" class=\"dataframe\">\n",
       "  <thead>\n",
       "    <tr style=\"text-align: right;\">\n",
       "      <th></th>\n",
       "      <th>label</th>\n",
       "      <th>comment</th>\n",
       "    </tr>\n",
       "  </thead>\n",
       "  <tbody>\n",
       "    <tr>\n",
       "      <th>10140</th>\n",
       "      <td>gender</td>\n",
       "      <td>Why boys crack up at rape jokes, think having a girlfriend is “gay,” and still can’t cry—and why we need to give them new and better models of masculinity Jeff Perera Thank you for sharing. #leadershipdevelopement #leadershipexcellence #better https://www.theatlantic.com/magazine/archive/2020/01/the-miseducation-of-the-american-boy/603046/?preview=6iueaQcbGmSVmP5F6DO-ubMaCOQ&amp;amp;utm_campaign=later-linkinbio-theatlantic&amp;amp;utm_content=later-4467028&amp;amp;utm_medium=social&amp;amp;utm_source=instagram&amp;amp;fbclid=IwAR1cg03PzmHqBerwagxqctorPCsVSItIAmZehR5sHOrYsq51PiR92lj...</td>\n",
       "    </tr>\n",
       "  </tbody>\n",
       "</table>\n",
       "</div>"
      ],
      "text/plain": [
       "        label  \\\n",
       "10140  gender   \n",
       "\n",
       "                                                                                                                                                                                                                                                                                                                                                                                                                                                                                                                                                                                           comment  \n",
       "10140  Why boys crack up at rape jokes, think having a girlfriend is “gay,” and still can’t cry—and why we need to give them new and better models of masculinity Jeff Perera Thank you for sharing. #leadershipdevelopement #leadershipexcellence #better https://www.theatlantic.com/magazine/archive/2020/01/the-miseducation-of-the-american-boy/603046/?preview=6iueaQcbGmSVmP5F6DO-ubMaCOQ&amp;utm_campaign=later-linkinbio-theatlantic&amp;utm_content=later-4467028&amp;utm_medium=social&amp;utm_source=instagram&amp;fbclid=IwAR1cg03PzmHqBerwagxqctorPCsVSItIAmZehR5sHOrYsq51PiR92lj...  "
      ]
     },
     "execution_count": 24,
     "metadata": {},
     "output_type": "execute_result"
    }
   ],
   "source": [
    "cyberbullying_df['comment'].str.len().max()\n",
    "#the new max len is 500+ but we will deal with links soon.\n",
    "pd.options.display.max_colwidth = cyberbullying_df['comment'].str.len().max()\n",
    "cyberbullying_df[cyberbullying_df['comment'].str.len() == cyberbullying_df['comment'].str.len().max()]"
   ]
  },
  {
   "cell_type": "markdown",
   "id": "13be3f34",
   "metadata": {},
   "source": [
    "## Let's merge the two datasets and make the new dataset more uniform"
   ]
  },
  {
   "cell_type": "code",
   "execution_count": 25,
   "id": "072d33e1",
   "metadata": {},
   "outputs": [],
   "source": [
    "#concatenate sarcasm_df and cyberbullying_df datasets into 1\n",
    "merged_all_df = pd.concat([sarcasm_df,cyberbullying_df])\n",
    "\n",
    "#drop duplicate\n",
    "merged_all_df = merged_all_df.drop_duplicates()\n",
    "#drop empty strings\n",
    "merged_all_df['comment'].replace('', np.nan, inplace=True)\n",
    "merged_all_df = merged_all_df.dropna()"
   ]
  },
  {
   "cell_type": "code",
   "execution_count": 26,
   "id": "37395048",
   "metadata": {},
   "outputs": [],
   "source": [
    "def cleaning(sentence):\n",
    "    #removing extra whitespaces\n",
    "    sentence = sentence.strip()\n",
    "    #deleting the # sign, replacing the '&amp' string by simply '&'\n",
    "    sentence = sentence.replace('[#$]','').replace('&amp;', '&')\n",
    "    #dealing with more special characters\n",
    "    sentence = sentence.replace('&lt;', '<').replace('&gt;', '>')\n",
    "    #deleting links and @ tags\n",
    "    sentence = re.sub(r\"http\\S+\", \"\", sentence)\n",
    "    sentence = re.sub(r'@\\w+\\S+', \"\", sentence)\n",
    "    sentence = re.sub(r\"\\w+.com\\S+\", \"\", sentence)\n",
    "    sentence = re.sub(r\"\\w+pic.twitter\\w+\", \"\", sentence)\n",
    "    #putting the first letter of each comment in lower case, because does not indicate any emotion, but for the rest\n",
    "    #of the string, we want to keep uppercase WHEN A USER IS YELLING for instance!\n",
    "    sentence = sentence[:1].lower() + sentence[1:]\n",
    "    #deleting all numbers\n",
    "    sentence = re.sub(r\"\\d+\", \"\", sentence)\n",
    "    return sentence"
   ]
  },
  {
   "cell_type": "code",
   "execution_count": 27,
   "id": "7db7436a",
   "metadata": {},
   "outputs": [],
   "source": [
    "merged_all_df[\"comment_cleaned\"] = merged_all_df[\"comment\"].apply(cleaning)"
   ]
  },
  {
   "cell_type": "code",
   "execution_count": 28,
   "id": "99efd0af",
   "metadata": {},
   "outputs": [
    {
     "data": {
      "text/html": [
       "<div>\n",
       "<style scoped>\n",
       "    .dataframe tbody tr th:only-of-type {\n",
       "        vertical-align: middle;\n",
       "    }\n",
       "\n",
       "    .dataframe tbody tr th {\n",
       "        vertical-align: top;\n",
       "    }\n",
       "\n",
       "    .dataframe thead th {\n",
       "        text-align: right;\n",
       "    }\n",
       "</style>\n",
       "<table border=\"1\" class=\"dataframe\">\n",
       "  <thead>\n",
       "    <tr style=\"text-align: right;\">\n",
       "      <th></th>\n",
       "      <th>label</th>\n",
       "      <th>comment</th>\n",
       "      <th>comment_cleaned</th>\n",
       "    </tr>\n",
       "  </thead>\n",
       "  <tbody>\n",
       "    <tr>\n",
       "      <th>33</th>\n",
       "      <td>sarcasm</td>\n",
       "      <td>But they'll have all those reviews!</td>\n",
       "      <td>but they'll have all those reviews!</td>\n",
       "    </tr>\n",
       "    <tr>\n",
       "      <th>44</th>\n",
       "      <td>sarcasm</td>\n",
       "      <td>wow it is totally unreasonable to assume that the agency that covered up Bush war crimes because \"muh republican party\" would be partisan as fuck</td>\n",
       "      <td>wow it is totally unreasonable to assume that the agency that covered up Bush war crimes because \"muh republican party\" would be partisan as fuck</td>\n",
       "    </tr>\n",
       "    <tr>\n",
       "      <th>45</th>\n",
       "      <td>sarcasm</td>\n",
       "      <td>Ho ho ho... But Melania said that there is no way it could have happened because she didn't know the woman!</td>\n",
       "      <td>ho ho ho... But Melania said that there is no way it could have happened because she didn't know the woman!</td>\n",
       "    </tr>\n",
       "    <tr>\n",
       "      <th>66</th>\n",
       "      <td>sarcasm</td>\n",
       "      <td>I can't wait until @potus starts a twitter war against Morning Joe.</td>\n",
       "      <td>i can't wait until  starts a twitter war against Morning Joe.</td>\n",
       "    </tr>\n",
       "    <tr>\n",
       "      <th>69</th>\n",
       "      <td>sarcasm</td>\n",
       "      <td>gotta love the teachers who give exams on the day after halloween</td>\n",
       "      <td>gotta love the teachers who give exams on the day after halloween</td>\n",
       "    </tr>\n",
       "    <tr>\n",
       "      <th>...</th>\n",
       "      <td>...</td>\n",
       "      <td>...</td>\n",
       "      <td>...</td>\n",
       "    </tr>\n",
       "    <tr>\n",
       "      <th>47687</th>\n",
       "      <td>ethnicity</td>\n",
       "      <td>Black ppl aren't expected to do anything, depended on for anything. Yet free to participate, work, enjoy the freedom of humans all across this globe. If you waste your energy on the past you will be wasting it for building the future.</td>\n",
       "      <td>black ppl aren't expected to do anything, depended on for anything. Yet free to participate, work, enjoy the freedom of humans all across this globe. If you waste your energy on the past you will be wasting it for building the future.</td>\n",
       "    </tr>\n",
       "    <tr>\n",
       "      <th>47688</th>\n",
       "      <td>ethnicity</td>\n",
       "      <td>Turner did not withhold his disappointment. Turner called the court an “abominable conclave of negro hating demons” (with one exception) who “issued another decree that colored men and women must be driven into Jim Crow cars whenever it suits the whim of any white community.”</td>\n",
       "      <td>turner did not withhold his disappointment. Turner called the court an “abominable conclave of negro hating demons” (with one exception) who “issued another decree that colored men and women must be driven into Jim Crow cars whenever it suits the whim of any</td>\n",
       "    </tr>\n",
       "    <tr>\n",
       "      <th>47689</th>\n",
       "      <td>ethnicity</td>\n",
       "      <td>I swear to God. This dumb nigger bitch. I have got to bleach my hair reeeeeal fuckin' soon. D:&amp;lt; FUCK.</td>\n",
       "      <td>i swear to God. This dumb nigger bitch. I have got to bleach my hair reeeeeal fuckin' soon. D:&lt; FUCK.</td>\n",
       "    </tr>\n",
       "    <tr>\n",
       "      <th>47690</th>\n",
       "      <td>ethnicity</td>\n",
       "      <td>Yea fuck you RT @therealexel: IF YOURE A NIGGER FUCKING UNFOLLOW ME, FUCKING DUMB NIGGERS.</td>\n",
       "      <td>yea fuck you RT  IF YOURE A NIGGER FUCKING UNFOLLOW ME, FUCKING DUMB NIGGERS.</td>\n",
       "    </tr>\n",
       "    <tr>\n",
       "      <th>47691</th>\n",
       "      <td>ethnicity</td>\n",
       "      <td>Bro. U gotta chill RT @CHILLShrammy: Dog FUCK KP that dumb nigger bitch lmao</td>\n",
       "      <td>bro. U gotta chill RT  Dog FUCK KP that dumb nigger bitch lmao</td>\n",
       "    </tr>\n",
       "  </tbody>\n",
       "</table>\n",
       "<p>517497 rows × 3 columns</p>\n",
       "</div>"
      ],
      "text/plain": [
       "           label  \\\n",
       "33       sarcasm   \n",
       "44       sarcasm   \n",
       "45       sarcasm   \n",
       "66       sarcasm   \n",
       "69       sarcasm   \n",
       "...          ...   \n",
       "47687  ethnicity   \n",
       "47688  ethnicity   \n",
       "47689  ethnicity   \n",
       "47690  ethnicity   \n",
       "47691  ethnicity   \n",
       "\n",
       "                                                                                                                                                                                                                                                                                    comment  \\\n",
       "33                                                                                                                                                                                                                                                      But they'll have all those reviews!   \n",
       "44                                                                                                                                        wow it is totally unreasonable to assume that the agency that covered up Bush war crimes because \"muh republican party\" would be partisan as fuck   \n",
       "45                                                                                                                                                                              Ho ho ho... But Melania said that there is no way it could have happened because she didn't know the woman!   \n",
       "66                                                                                                                                                                                                                      I can't wait until @potus starts a twitter war against Morning Joe.   \n",
       "69                                                                                                                                                                                                                        gotta love the teachers who give exams on the day after halloween   \n",
       "...                                                                                                                                                                                                                                                                                     ...   \n",
       "47687                                            Black ppl aren't expected to do anything, depended on for anything. Yet free to participate, work, enjoy the freedom of humans all across this globe. If you waste your energy on the past you will be wasting it for building the future.   \n",
       "47688  Turner did not withhold his disappointment. Turner called the court an “abominable conclave of negro hating demons” (with one exception) who “issued another decree that colored men and women must be driven into Jim Crow cars whenever it suits the whim of any white community.”   \n",
       "47689                                                                                                                                                                              I swear to God. This dumb nigger bitch. I have got to bleach my hair reeeeeal fuckin' soon. D:&lt; FUCK.   \n",
       "47690                                                                                                                                                                                            Yea fuck you RT @therealexel: IF YOURE A NIGGER FUCKING UNFOLLOW ME, FUCKING DUMB NIGGERS.   \n",
       "47691                                                                                                                                                                                                          Bro. U gotta chill RT @CHILLShrammy: Dog FUCK KP that dumb nigger bitch lmao   \n",
       "\n",
       "                                                                                                                                                                                                                                                           comment_cleaned  \n",
       "33                                                                                                                                                                                                                                     but they'll have all those reviews!  \n",
       "44                                                                                                                       wow it is totally unreasonable to assume that the agency that covered up Bush war crimes because \"muh republican party\" would be partisan as fuck  \n",
       "45                                                                                                                                                             ho ho ho... But Melania said that there is no way it could have happened because she didn't know the woman!  \n",
       "66                                                                                                                                                                                                           i can't wait until  starts a twitter war against Morning Joe.  \n",
       "69                                                                                                                                                                                                       gotta love the teachers who give exams on the day after halloween  \n",
       "...                                                                                                                                                                                                                                                                    ...  \n",
       "47687                           black ppl aren't expected to do anything, depended on for anything. Yet free to participate, work, enjoy the freedom of humans all across this globe. If you waste your energy on the past you will be wasting it for building the future.  \n",
       "47688  turner did not withhold his disappointment. Turner called the court an “abominable conclave of negro hating demons” (with one exception) who “issued another decree that colored men and women must be driven into Jim Crow cars whenever it suits the whim of any   \n",
       "47689                                                                                                                                                                i swear to God. This dumb nigger bitch. I have got to bleach my hair reeeeeal fuckin' soon. D:< FUCK.  \n",
       "47690                                                                                                                                                                                        yea fuck you RT  IF YOURE A NIGGER FUCKING UNFOLLOW ME, FUCKING DUMB NIGGERS.  \n",
       "47691                                                                                                                                                                                                       bro. U gotta chill RT  Dog FUCK KP that dumb nigger bitch lmao  \n",
       "\n",
       "[517497 rows x 3 columns]"
      ]
     },
     "execution_count": 28,
     "metadata": {},
     "output_type": "execute_result"
    }
   ],
   "source": [
    "merged_all_df"
   ]
  },
  {
   "cell_type": "markdown",
   "id": "feb179ff",
   "metadata": {
    "heading_collapsed": true
   },
   "source": [
    "### Making a new column with the length of each string"
   ]
  },
  {
   "cell_type": "code",
   "execution_count": 29,
   "id": "e6ea0882",
   "metadata": {
    "hidden": true
   },
   "outputs": [
    {
     "data": {
      "text/plain": [
       "<AxesSubplot:title={'center':'Words Per Tweet'}, xlabel='label'>"
      ]
     },
     "execution_count": 29,
     "metadata": {},
     "output_type": "execute_result"
    },
    {
     "data": {
      "image/png": "[encoded data removed]",
      "text/plain": [
       "<Figure size 640x480 with 1 Axes>"
      ]
     },
     "metadata": {},
     "output_type": "display_data"
    }
   ],
   "source": [
    "import matplotlib.pyplot as plt\n",
    "merged_all_df['Words Per Tweet'] = merged_all_df['comment'].str.split().apply(len)\n",
    "\n",
    "#and plotting to see if length of the comment per label is uniform enough\n",
    "merged_all_df.boxplot(\"Words Per Tweet\", by=\"label\", grid=False, showfliers=True,\n",
    "                        color='black',)"
   ]
  },
  {
   "cell_type": "markdown",
   "id": "f8d0e4c6",
   "metadata": {
    "heading_collapsed": true
   },
   "source": [
    "### More on the max length: should we do more truncation of comments?"
   ]
  },
  {
   "cell_type": "code",
   "execution_count": 30,
   "id": "eb80ea10",
   "metadata": {
    "hidden": true
   },
   "outputs": [
    {
     "data": {
      "text/html": [
       "<div>\n",
       "<style scoped>\n",
       "    .dataframe tbody tr th:only-of-type {\n",
       "        vertical-align: middle;\n",
       "    }\n",
       "\n",
       "    .dataframe tbody tr th {\n",
       "        vertical-align: top;\n",
       "    }\n",
       "\n",
       "    .dataframe thead th {\n",
       "        text-align: right;\n",
       "    }\n",
       "</style>\n",
       "<table border=\"1\" class=\"dataframe\">\n",
       "  <thead>\n",
       "    <tr style=\"text-align: right;\">\n",
       "      <th></th>\n",
       "      <th>label</th>\n",
       "      <th>comment</th>\n",
       "      <th>comment_cleaned</th>\n",
       "      <th>Words Per Tweet</th>\n",
       "    </tr>\n",
       "  </thead>\n",
       "  <tbody>\n",
       "    <tr>\n",
       "      <th>575</th>\n",
       "      <td>sarcasm</td>\n",
       "      <td>Vayne</td>\n",
       "      <td>vayne</td>\n",
       "      <td>1</td>\n",
       "    </tr>\n",
       "    <tr>\n",
       "      <th>845</th>\n",
       "      <td>sarcasm</td>\n",
       "      <td>Fuck YOU</td>\n",
       "      <td>fuck YOU</td>\n",
       "      <td>2</td>\n",
       "    </tr>\n",
       "    <tr>\n",
       "      <th>1399</th>\n",
       "      <td>sarcasm</td>\n",
       "      <td>Greek</td>\n",
       "      <td>greek</td>\n",
       "      <td>1</td>\n",
       "    </tr>\n",
       "    <tr>\n",
       "      <th>1417</th>\n",
       "      <td>sarcasm</td>\n",
       "      <td>No</td>\n",
       "      <td>no</td>\n",
       "      <td>1</td>\n",
       "    </tr>\n",
       "    <tr>\n",
       "      <th>1445</th>\n",
       "      <td>sarcasm</td>\n",
       "      <td>is this</td>\n",
       "      <td>is this</td>\n",
       "      <td>2</td>\n",
       "    </tr>\n",
       "    <tr>\n",
       "      <th>...</th>\n",
       "      <td>...</td>\n",
       "      <td>...</td>\n",
       "      <td>...</td>\n",
       "      <td>...</td>\n",
       "    </tr>\n",
       "    <tr>\n",
       "      <th>14458</th>\n",
       "      <td>gender</td>\n",
       "      <td>👧👧👧👧 …</td>\n",
       "      <td>👧👧👧👧 …</td>\n",
       "      <td>2</td>\n",
       "    </tr>\n",
       "    <tr>\n",
       "      <th>14691</th>\n",
       "      <td>gender</td>\n",
       "      <td>♫♪</td>\n",
       "      <td>♫♪</td>\n",
       "      <td>1</td>\n",
       "    </tr>\n",
       "    <tr>\n",
       "      <th>15087</th>\n",
       "      <td>gender</td>\n",
       "      <td>#mkr</td>\n",
       "      <td>#mkr</td>\n",
       "      <td>1</td>\n",
       "    </tr>\n",
       "    <tr>\n",
       "      <th>16290</th>\n",
       "      <td>religion</td>\n",
       "      <td>Iter 3:</td>\n",
       "      <td>iter :</td>\n",
       "      <td>2</td>\n",
       "    </tr>\n",
       "    <tr>\n",
       "      <th>41909</th>\n",
       "      <td>ethnicity</td>\n",
       "      <td>#Coon</td>\n",
       "      <td>#Coon</td>\n",
       "      <td>1</td>\n",
       "    </tr>\n",
       "  </tbody>\n",
       "</table>\n",
       "<p>6110 rows × 4 columns</p>\n",
       "</div>"
      ],
      "text/plain": [
       "           label   comment comment_cleaned  Words Per Tweet\n",
       "575      sarcasm     Vayne           vayne                1\n",
       "845      sarcasm  Fuck YOU        fuck YOU                2\n",
       "1399     sarcasm     Greek           greek                1\n",
       "1417     sarcasm        No              no                1\n",
       "1445     sarcasm   is this         is this                2\n",
       "...          ...       ...             ...              ...\n",
       "14458     gender    👧👧👧👧 …          👧👧👧👧 …                2\n",
       "14691     gender        ♫♪              ♫♪                1\n",
       "15087     gender      #mkr            #mkr                1\n",
       "16290   religion   Iter 3:          iter :                2\n",
       "41909  ethnicity     #Coon           #Coon                1\n",
       "\n",
       "[6110 rows x 4 columns]"
      ]
     },
     "execution_count": 30,
     "metadata": {},
     "output_type": "execute_result"
    }
   ],
   "source": [
    "merged_all_df[merged_all_df['comment'].str.len() < 9]"
   ]
  },
  {
   "cell_type": "code",
   "execution_count": 31,
   "id": "3f124026",
   "metadata": {
    "hidden": true
   },
   "outputs": [
    {
     "name": "stdout",
     "output_type": "stream",
     "text": [
      "681 tweets are still not in regular tweet dimensions...\n"
     ]
    }
   ],
   "source": [
    "longer_tweets_df = merged_all_df[merged_all_df['comment'].str.len() > 280]\n",
    "longer_tweets_df.shape  \n",
    "print(longer_tweets_df.shape[0], \"tweets are still not in regular tweet dimensions...\") #34"
   ]
  },
  {
   "cell_type": "code",
   "execution_count": 32,
   "id": "dafd2667",
   "metadata": {
    "hidden": true
   },
   "outputs": [
    {
     "data": {
      "text/html": [
       "<div>\n",
       "<style scoped>\n",
       "    .dataframe tbody tr th:only-of-type {\n",
       "        vertical-align: middle;\n",
       "    }\n",
       "\n",
       "    .dataframe tbody tr th {\n",
       "        vertical-align: top;\n",
       "    }\n",
       "\n",
       "    .dataframe thead th {\n",
       "        text-align: right;\n",
       "    }\n",
       "</style>\n",
       "<table border=\"1\" class=\"dataframe\">\n",
       "  <thead>\n",
       "    <tr style=\"text-align: right;\">\n",
       "      <th></th>\n",
       "      <th>label</th>\n",
       "      <th>comment</th>\n",
       "      <th>comment_cleaned</th>\n",
       "      <th>Words Per Tweet</th>\n",
       "    </tr>\n",
       "  </thead>\n",
       "  <tbody>\n",
       "    <tr>\n",
       "      <th>7959</th>\n",
       "      <td>gender</td>\n",
       "      <td>I always get fucking pissed when I see a man joke about the sexual abuse of another man. “Wow. Please she should come &amp;amp; rape me too, some of us want.” “Mans is complaining. Nigga you gay? ” What foolishness, mocking and minimizing someone's pain for bants. Are you okay at all?</td>\n",
       "      <td>i always get fucking pissed when I see a man joke about the sexual abuse of another man. “Wow. Please she  &amp; rape me too, some of us want.” “Mans  Nigga you gay? ” What foolishness, mocking and minimizing someone's pain for bants. Are you okay at all?</td>\n",
       "      <td>52</td>\n",
       "    </tr>\n",
       "    <tr>\n",
       "      <th>8043</th>\n",
       "      <td>gender</td>\n",
       "      <td>I posted about a problematic drag queen that made a rape joke at Queer Junction in Sheffield &amp;amp; the terrible customer service that followed by someone working for them who also maliciously misgendered me &amp;amp; said that I ‘shun the gay world’ - what a way to run a business, huh?</td>\n",
       "      <td>i posted about a problematic drag queen that made a rape joke at Queer Junction in Sheffield &amp; the terrible customer service that followed by someone working for them who also maliciously misgendered me &amp; said that I ‘shun the gay world’ - what a way to run a business, huh?</td>\n",
       "      <td>51</td>\n",
       "    </tr>\n",
       "    <tr>\n",
       "      <th>8113</th>\n",
       "      <td>gender</td>\n",
       "      <td>I love Boondocks slander let's talk about how Gay Black men &amp;amp; homosexuality were portrayed negatively the entire show. All the GBM characters were villains and/or some sort perverted deviant. It was mad homophobic. And McGruder's obsession with gay rape as a joke was just weird.</td>\n",
       "      <td>i love Boondocks slander let's talk about how Gay Black men &amp; homosexuality were portrayed negatively the entire show. All the GBM characters were villains and/or some sort perverted deviant. It was mad homophobic. And McGruder's obsession with gay rape as a joke was just weird.</td>\n",
       "      <td>46</td>\n",
       "    </tr>\n",
       "    <tr>\n",
       "      <th>8153</th>\n",
       "      <td>gender</td>\n",
       "      <td>he beat women and a gay man almost to death. he tried to kill and rape his girlfriend with a pitchfork. dumb kpop jokes are the very LEAST of what he deserves. he doesn’t need anyone to defend his EVIL, misogynistic, homophobic, rapist ass but thanks anyway https://twitter.com/valentaevibes/status/1008839625027268608</td>\n",
       "      <td>he beat women and a gay man almost to death. he tried to kill and rape his girlfriend with a pitchfork. dumb kpop jokes are the very LEAST of what he deserves. he doesn’t need anyone to defend his EVIL, misogynistic, homophobic, rapist ass but thanks anyway</td>\n",
       "      <td>48</td>\n",
       "    </tr>\n",
       "  </tbody>\n",
       "</table>\n",
       "</div>"
      ],
      "text/plain": [
       "       label  \\\n",
       "7959  gender   \n",
       "8043  gender   \n",
       "8113  gender   \n",
       "8153  gender   \n",
       "\n",
       "                                                                                                                                                                                                                                                                                                                             comment  \\\n",
       "7959                                       I always get fucking pissed when I see a man joke about the sexual abuse of another man. “Wow. Please she should come &amp; rape me too, some of us want.” “Mans is complaining. Nigga you gay? ” What foolishness, mocking and minimizing someone's pain for bants. Are you okay at all?   \n",
       "8043                                      I posted about a problematic drag queen that made a rape joke at Queer Junction in Sheffield &amp; the terrible customer service that followed by someone working for them who also maliciously misgendered me &amp; said that I ‘shun the gay world’ - what a way to run a business, huh?   \n",
       "8113                                     I love Boondocks slander let's talk about how Gay Black men &amp; homosexuality were portrayed negatively the entire show. All the GBM characters were villains and/or some sort perverted deviant. It was mad homophobic. And McGruder's obsession with gay rape as a joke was just weird.   \n",
       "8153  he beat women and a gay man almost to death. he tried to kill and rape his girlfriend with a pitchfork. dumb kpop jokes are the very LEAST of what he deserves. he doesn’t need anyone to defend his EVIL, misogynistic, homophobic, rapist ass but thanks anyway https://twitter.com/valentaevibes/status/1008839625027268608   \n",
       "\n",
       "                                                                                                                                                                                                                                                                              comment_cleaned  \\\n",
       "7959                              i always get fucking pissed when I see a man joke about the sexual abuse of another man. “Wow. Please she  & rape me too, some of us want.” “Mans  Nigga you gay? ” What foolishness, mocking and minimizing someone's pain for bants. Are you okay at all?   \n",
       "8043       i posted about a problematic drag queen that made a rape joke at Queer Junction in Sheffield & the terrible customer service that followed by someone working for them who also maliciously misgendered me & said that I ‘shun the gay world’ - what a way to run a business, huh?   \n",
       "8113  i love Boondocks slander let's talk about how Gay Black men & homosexuality were portrayed negatively the entire show. All the GBM characters were villains and/or some sort perverted deviant. It was mad homophobic. And McGruder's obsession with gay rape as a joke was just weird.   \n",
       "8153                       he beat women and a gay man almost to death. he tried to kill and rape his girlfriend with a pitchfork. dumb kpop jokes are the very LEAST of what he deserves. he doesn’t need anyone to defend his EVIL, misogynistic, homophobic, rapist ass but thanks anyway    \n",
       "\n",
       "      Words Per Tweet  \n",
       "7959               52  \n",
       "8043               51  \n",
       "8113               46  \n",
       "8153               48  "
      ]
     },
     "execution_count": 32,
     "metadata": {},
     "output_type": "execute_result"
    }
   ],
   "source": [
    "longer_tweets_df.head(4)"
   ]
  },
  {
   "cell_type": "code",
   "execution_count": 33,
   "id": "6a6f8e0d",
   "metadata": {
    "hidden": true
   },
   "outputs": [
    {
     "name": "stdout",
     "output_type": "stream",
     "text": [
      "681 tweets are still not in regular tweet dimensions...\n"
     ]
    }
   ],
   "source": [
    "longer_tweets_df = merged_all_df[merged_all_df['comment'].str.len() > 280]\n",
    "longer_tweets_df.shape  \n",
    "print(longer_tweets_df.shape[0], \"tweets are still not in regular tweet dimensions...\") #34"
   ]
  },
  {
   "cell_type": "code",
   "execution_count": 34,
   "id": "8f738b4b",
   "metadata": {
    "hidden": true
   },
   "outputs": [
    {
     "data": {
      "text/html": [
       "<div>\n",
       "<style scoped>\n",
       "    .dataframe tbody tr th:only-of-type {\n",
       "        vertical-align: middle;\n",
       "    }\n",
       "\n",
       "    .dataframe tbody tr th {\n",
       "        vertical-align: top;\n",
       "    }\n",
       "\n",
       "    .dataframe thead th {\n",
       "        text-align: right;\n",
       "    }\n",
       "</style>\n",
       "<table border=\"1\" class=\"dataframe\">\n",
       "  <thead>\n",
       "    <tr style=\"text-align: right;\">\n",
       "      <th></th>\n",
       "      <th>label</th>\n",
       "      <th>comment</th>\n",
       "      <th>comment_cleaned</th>\n",
       "      <th>Words Per Tweet</th>\n",
       "    </tr>\n",
       "  </thead>\n",
       "  <tbody>\n",
       "    <tr>\n",
       "      <th>7959</th>\n",
       "      <td>gender</td>\n",
       "      <td>I always get fucking pissed when I see a man joke about the sexual abuse of another man. “Wow. Please she should come &amp;amp; rape me too, some of us want.” “Mans is complaining. Nigga you gay? ” What foolishness, mocking and minimizing someone's pain for bants. Are you okay at all?</td>\n",
       "      <td>i always get fucking pissed when I see a man joke about the sexual abuse of another man. “Wow. Please she  &amp; rape me too, some of us want.” “Mans  Nigga you gay? ” What foolishness, mocking and minimizing someone's pain for bants. Are you okay at all?</td>\n",
       "      <td>52</td>\n",
       "    </tr>\n",
       "    <tr>\n",
       "      <th>8043</th>\n",
       "      <td>gender</td>\n",
       "      <td>I posted about a problematic drag queen that made a rape joke at Queer Junction in Sheffield &amp;amp; the terrible customer service that followed by someone working for them who also maliciously misgendered me &amp;amp; said that I ‘shun the gay world’ - what a way to run a business, huh?</td>\n",
       "      <td>i posted about a problematic drag queen that made a rape joke at Queer Junction in Sheffield &amp; the terrible customer service that followed by someone working for them who also maliciously misgendered me &amp; said that I ‘shun the gay world’ - what a way to run a business, huh?</td>\n",
       "      <td>51</td>\n",
       "    </tr>\n",
       "    <tr>\n",
       "      <th>8113</th>\n",
       "      <td>gender</td>\n",
       "      <td>I love Boondocks slander let's talk about how Gay Black men &amp;amp; homosexuality were portrayed negatively the entire show. All the GBM characters were villains and/or some sort perverted deviant. It was mad homophobic. And McGruder's obsession with gay rape as a joke was just weird.</td>\n",
       "      <td>i love Boondocks slander let's talk about how Gay Black men &amp; homosexuality were portrayed negatively the entire show. All the GBM characters were villains and/or some sort perverted deviant. It was mad homophobic. And McGruder's obsession with gay rape as a joke was just weird.</td>\n",
       "      <td>46</td>\n",
       "    </tr>\n",
       "    <tr>\n",
       "      <th>8153</th>\n",
       "      <td>gender</td>\n",
       "      <td>he beat women and a gay man almost to death. he tried to kill and rape his girlfriend with a pitchfork. dumb kpop jokes are the very LEAST of what he deserves. he doesn’t need anyone to defend his EVIL, misogynistic, homophobic, rapist ass but thanks anyway https://twitter.com/valentaevibes/status/1008839625027268608</td>\n",
       "      <td>he beat women and a gay man almost to death. he tried to kill and rape his girlfriend with a pitchfork. dumb kpop jokes are the very LEAST of what he deserves. he doesn’t need anyone to defend his EVIL, misogynistic, homophobic, rapist ass but thanks anyway</td>\n",
       "      <td>48</td>\n",
       "    </tr>\n",
       "    <tr>\n",
       "      <th>8182</th>\n",
       "      <td>gender</td>\n",
       "      <td>Yeah, but he already had his brain damaged. He might not have been able to be saved at all. What makes it worse, kid was 14, naked, Dahmer says it was his lover &amp; they fighting. Cops make jokes abouts gays &amp;amp; rape &amp;amp; let him go. Kid was killed that night. Dahmer kept the head.</td>\n",
       "      <td>yeah, but he already had his brain damaged. He might not have been able to be saved at all. What makes it worse, kid was , naked, Dahmer says it was his lover &amp; they fighting. Cops make jokes abouts gays &amp; rape &amp; let him go. Kid was killed that night. Dahmer kept the head.</td>\n",
       "      <td>56</td>\n",
       "    </tr>\n",
       "    <tr>\n",
       "      <th>...</th>\n",
       "      <td>...</td>\n",
       "      <td>...</td>\n",
       "      <td>...</td>\n",
       "      <td>...</td>\n",
       "    </tr>\n",
       "    <tr>\n",
       "      <th>46801</th>\n",
       "      <td>ethnicity</td>\n",
       "      <td>Nope. Just honest. Rush mocked a man w/ Parkinson's, had a radio segment called \"Barack the Magic Negro\", called Chelsea Clinton the White House dog when she was 13, &amp;amp; is himself a walking cancer on the world. I won't for one second pretend that I care if he dies. Good riddance!</td>\n",
       "      <td>nope. Just honest. Rush mocked a man w/ Parkinson's, had a radio segment called \"Barack the Magic Negro\", called Chelsea Clinton the White House dog when she was , &amp; is himself a walking cancer on the world. I won't for one second pretend that I care if he dies. Good riddance!</td>\n",
       "      <td>52</td>\n",
       "    </tr>\n",
       "    <tr>\n",
       "      <th>47246</th>\n",
       "      <td>ethnicity</td>\n",
       "      <td>This is awesome. If we have learned anything these past few months, it’s this. It doesn’t matter if you’re black, why’re, yellow, brown, or any other color. There is pure evil in this world &amp;amp; it’s foolish to not carry of you’re legally able to. #2a #ForEveryone #GoodForTheseGuys</td>\n",
       "      <td>this is awesome. If we have learned anything these past few months, it’s this. It doesn’t matter if you’re black, why’re, yellow, brown, or any other color. There is pure evil in this world &amp; it’s foolish to not carry of you’re legally able to. #a #ForEveryone #GoodForTheseGuys</td>\n",
       "      <td>48</td>\n",
       "    </tr>\n",
       "    <tr>\n",
       "      <th>47423</th>\n",
       "      <td>ethnicity</td>\n",
       "      <td>My son never knew racism until he started Virginia Tech.I reached out to U 4 help 4 support 4 my son.U &amp;amp; everyone else at Uni abandoned him.The shame is on U 4 kicking a brown colored student to the sidelined as if he was trash.These posters don’t make Blacksburg any less racist.</td>\n",
       "      <td>my son never knew racism until he started Virginia Tech.I reached out to U  help  support  my son.U &amp; everyone else at Uni abandoned him.The shame is on U  kicking a brown colored student to the sidelined as if he was trash.These posters don’t make Blacksburg any less racist.</td>\n",
       "      <td>53</td>\n",
       "    </tr>\n",
       "    <tr>\n",
       "      <th>47573</th>\n",
       "      <td>ethnicity</td>\n",
       "      <td>I know this white Latina that found out her grandpa was listed as negro in a PR census (which doesn’t matter cuz lots of times it was used as “other”) &amp;amp; the 1st thing she asks me is if she can use the n word. Im like y if ur never called that? &amp;amp; yes she proceeded to use it.</td>\n",
       "      <td>i know this white Latina that found out her grandpa was listed as negro in a PR census (which doesn’t matter cuz lots of times it was used as “other”) &amp; the st thing she asks me is if she can use the n word. Im like y if ur never called that? &amp; yes she proceeded to use it.</td>\n",
       "      <td>60</td>\n",
       "    </tr>\n",
       "    <tr>\n",
       "      <th>47646</th>\n",
       "      <td>ethnicity</td>\n",
       "      <td>We know people in the wine industry who are struggling because they are colored, they receive a better reception abroad than in &amp;amp; around the Cape Winelands &amp;amp; it's tragic. Racism isn't just what you say, it's also the way u treat people - it's the prejudice held of \"us &amp;amp; them\"</td>\n",
       "      <td>we know people in the wine industry who are struggling because they are colored, they receive a better reception abroad than in &amp; around the Cape Winelands &amp; it's tragic. Racism isn't just what you say, it's also the way u treat people - it's the prejudice held of \"us &amp; them\"</td>\n",
       "      <td>52</td>\n",
       "    </tr>\n",
       "  </tbody>\n",
       "</table>\n",
       "<p>681 rows × 4 columns</p>\n",
       "</div>"
      ],
      "text/plain": [
       "           label  \\\n",
       "7959      gender   \n",
       "8043      gender   \n",
       "8113      gender   \n",
       "8153      gender   \n",
       "8182      gender   \n",
       "...          ...   \n",
       "46801  ethnicity   \n",
       "47246  ethnicity   \n",
       "47423  ethnicity   \n",
       "47573  ethnicity   \n",
       "47646  ethnicity   \n",
       "\n",
       "                                                                                                                                                                                                                                                                                                                              comment  \\\n",
       "7959                                        I always get fucking pissed when I see a man joke about the sexual abuse of another man. “Wow. Please she should come &amp; rape me too, some of us want.” “Mans is complaining. Nigga you gay? ” What foolishness, mocking and minimizing someone's pain for bants. Are you okay at all?   \n",
       "8043                                       I posted about a problematic drag queen that made a rape joke at Queer Junction in Sheffield &amp; the terrible customer service that followed by someone working for them who also maliciously misgendered me &amp; said that I ‘shun the gay world’ - what a way to run a business, huh?   \n",
       "8113                                      I love Boondocks slander let's talk about how Gay Black men &amp; homosexuality were portrayed negatively the entire show. All the GBM characters were villains and/or some sort perverted deviant. It was mad homophobic. And McGruder's obsession with gay rape as a joke was just weird.   \n",
       "8153   he beat women and a gay man almost to death. he tried to kill and rape his girlfriend with a pitchfork. dumb kpop jokes are the very LEAST of what he deserves. he doesn’t need anyone to defend his EVIL, misogynistic, homophobic, rapist ass but thanks anyway https://twitter.com/valentaevibes/status/1008839625027268608   \n",
       "8182                                      Yeah, but he already had his brain damaged. He might not have been able to be saved at all. What makes it worse, kid was 14, naked, Dahmer says it was his lover & they fighting. Cops make jokes abouts gays &amp; rape &amp; let him go. Kid was killed that night. Dahmer kept the head.   \n",
       "...                                                                                                                                                                                                                                                                                                                               ...   \n",
       "46801                                     Nope. Just honest. Rush mocked a man w/ Parkinson's, had a radio segment called \"Barack the Magic Negro\", called Chelsea Clinton the White House dog when she was 13, &amp; is himself a walking cancer on the world. I won't for one second pretend that I care if he dies. Good riddance!   \n",
       "47246                                     This is awesome. If we have learned anything these past few months, it’s this. It doesn’t matter if you’re black, why’re, yellow, brown, or any other color. There is pure evil in this world &amp; it’s foolish to not carry of you’re legally able to. #2a #ForEveryone #GoodForTheseGuys   \n",
       "47423                                    My son never knew racism until he started Virginia Tech.I reached out to U 4 help 4 support 4 my son.U &amp; everyone else at Uni abandoned him.The shame is on U 4 kicking a brown colored student to the sidelined as if he was trash.These posters don’t make Blacksburg any less racist.   \n",
       "47573                                      I know this white Latina that found out her grandpa was listed as negro in a PR census (which doesn’t matter cuz lots of times it was used as “other”) &amp; the 1st thing she asks me is if she can use the n word. Im like y if ur never called that? &amp; yes she proceeded to use it.   \n",
       "47646                                We know people in the wine industry who are struggling because they are colored, they receive a better reception abroad than in &amp; around the Cape Winelands &amp; it's tragic. Racism isn't just what you say, it's also the way u treat people - it's the prejudice held of \"us &amp; them\"   \n",
       "\n",
       "                                                                                                                                                                                                                                                                               comment_cleaned  \\\n",
       "7959                               i always get fucking pissed when I see a man joke about the sexual abuse of another man. “Wow. Please she  & rape me too, some of us want.” “Mans  Nigga you gay? ” What foolishness, mocking and minimizing someone's pain for bants. Are you okay at all?   \n",
       "8043        i posted about a problematic drag queen that made a rape joke at Queer Junction in Sheffield & the terrible customer service that followed by someone working for them who also maliciously misgendered me & said that I ‘shun the gay world’ - what a way to run a business, huh?   \n",
       "8113   i love Boondocks slander let's talk about how Gay Black men & homosexuality were portrayed negatively the entire show. All the GBM characters were villains and/or some sort perverted deviant. It was mad homophobic. And McGruder's obsession with gay rape as a joke was just weird.   \n",
       "8153                        he beat women and a gay man almost to death. he tried to kill and rape his girlfriend with a pitchfork. dumb kpop jokes are the very LEAST of what he deserves. he doesn’t need anyone to defend his EVIL, misogynistic, homophobic, rapist ass but thanks anyway    \n",
       "8182         yeah, but he already had his brain damaged. He might not have been able to be saved at all. What makes it worse, kid was , naked, Dahmer says it was his lover & they fighting. Cops make jokes abouts gays & rape & let him go. Kid was killed that night. Dahmer kept the head.   \n",
       "...                                                                                                                                                                                                                                                                                        ...   \n",
       "46801    nope. Just honest. Rush mocked a man w/ Parkinson's, had a radio segment called \"Barack the Magic Negro\", called Chelsea Clinton the White House dog when she was , & is himself a walking cancer on the world. I won't for one second pretend that I care if he dies. Good riddance!   \n",
       "47246   this is awesome. If we have learned anything these past few months, it’s this. It doesn’t matter if you’re black, why’re, yellow, brown, or any other color. There is pure evil in this world & it’s foolish to not carry of you’re legally able to. #a #ForEveryone #GoodForTheseGuys   \n",
       "47423     my son never knew racism until he started Virginia Tech.I reached out to U  help  support  my son.U & everyone else at Uni abandoned him.The shame is on U  kicking a brown colored student to the sidelined as if he was trash.These posters don’t make Blacksburg any less racist.   \n",
       "47573        i know this white Latina that found out her grandpa was listed as negro in a PR census (which doesn’t matter cuz lots of times it was used as “other”) & the st thing she asks me is if she can use the n word. Im like y if ur never called that? & yes she proceeded to use it.   \n",
       "47646     we know people in the wine industry who are struggling because they are colored, they receive a better reception abroad than in & around the Cape Winelands & it's tragic. Racism isn't just what you say, it's also the way u treat people - it's the prejudice held of \"us & them\"   \n",
       "\n",
       "       Words Per Tweet  \n",
       "7959                52  \n",
       "8043                51  \n",
       "8113                46  \n",
       "8153                48  \n",
       "8182                56  \n",
       "...                ...  \n",
       "46801               52  \n",
       "47246               48  \n",
       "47423               53  \n",
       "47573               60  \n",
       "47646               52  \n",
       "\n",
       "[681 rows x 4 columns]"
      ]
     },
     "execution_count": 34,
     "metadata": {},
     "output_type": "execute_result"
    }
   ],
   "source": [
    "longer_tweets_df"
   ]
  },
  {
   "cell_type": "markdown",
   "id": "4ab4b511",
   "metadata": {},
   "source": [
    "## Finally, let's make our labels more balanced (quick feature engineering)"
   ]
  },
  {
   "cell_type": "code",
   "execution_count": 35,
   "id": "5328ff37",
   "metadata": {},
   "outputs": [
    {
     "data": {
      "text/plain": [
       "<AxesSubplot:ylabel='None'>"
      ]
     },
     "execution_count": 35,
     "metadata": {},
     "output_type": "execute_result"
    },
    {
     "data": {
      "image/png": "[encoded data removed]",
      "text/plain": [
       "<Figure size 640x480 with 1 Axes>"
      ]
     },
     "metadata": {},
     "output_type": "display_data"
    }
   ],
   "source": [
    "#pie chart per label to see if label quantities are about equal\n",
    "merged_all_df.groupby('label').size().plot(kind='pie')"
   ]
  },
  {
   "cell_type": "markdown",
   "id": "62536955",
   "metadata": {},
   "source": [
    "...No, that is not balanced at all!"
   ]
  },
  {
   "cell_type": "code",
   "execution_count": 36,
   "id": "68825021",
   "metadata": {},
   "outputs": [],
   "source": [
    "merged_all_df = merged_all_df.loc[(merged_all_df['label'] != 'sarcasm') | (merged_all_df['comment'].str.split().str.len() >= 15)]"
   ]
  },
  {
   "cell_type": "code",
   "execution_count": 37,
   "id": "5b65f724",
   "metadata": {},
   "outputs": [
    {
     "name": "stderr",
     "output_type": "stream",
     "text": [
      "/tmp/ipykernel_1517/2140864661.py:1: SettingWithCopyWarning: \n",
      "A value is trying to be set on a copy of a slice from a DataFrame.\n",
      "Try using .loc[row_indexer,col_indexer] = value instead\n",
      "\n",
      "See the caveats in the documentation: https://pandas.pydata.org/pandas-docs/stable/user_guide/indexing.html#returning-a-view-versus-a-copy\n",
      "  merged_all_df[merged_all_df['label'] == 'sarcasm'] = merged_all_df[merged_all_df['label'] == 'sarcasm'].sample(frac=0.1)\n"
     ]
    },
    {
     "data": {
      "text/plain": [
       "(42502, 4)"
      ]
     },
     "execution_count": 37,
     "metadata": {},
     "output_type": "execute_result"
    }
   ],
   "source": [
    "merged_all_df[merged_all_df['label'] == 'sarcasm'] = merged_all_df[merged_all_df['label'] == 'sarcasm'].sample(frac=0.1)\n",
    "merged_all_df = merged_all_df.dropna()\n",
    "merged_all_df.shape"
   ]
  },
  {
   "cell_type": "code",
   "execution_count": 38,
   "id": "daa23b2f",
   "metadata": {},
   "outputs": [
    {
     "data": {
      "text/plain": [
       "<AxesSubplot:ylabel='None'>"
      ]
     },
     "execution_count": 38,
     "metadata": {},
     "output_type": "execute_result"
    },
    {
     "data": {
      "image/png": "[encoded data removed]",
      "text/plain": [
       "<Figure size 640x480 with 1 Axes>"
      ]
     },
     "metadata": {},
     "output_type": "display_data"
    }
   ],
   "source": [
    "merged_all_df.groupby('label').size().plot(kind='pie')"
   ]
  },
  {
   "cell_type": "code",
   "execution_count": 39,
   "id": "c831891c",
   "metadata": {},
   "outputs": [
    {
     "data": {
      "text/plain": [
       "<AxesSubplot:title={'center':'Words Per Tweet'}, xlabel='label'>"
      ]
     },
     "execution_count": 39,
     "metadata": {},
     "output_type": "execute_result"
    },
    {
     "data": {
      "image/png": "[encoded data removed]",
      "text/plain": [
       "<Figure size 640x480 with 1 Axes>"
      ]
     },
     "metadata": {},
     "output_type": "display_data"
    }
   ],
   "source": [
    "merged_all_df.boxplot(\"Words Per Tweet\", by=\"label\", grid=False, showfliers=True,\n",
    "                        color='blue',)"
   ]
  },
  {
   "cell_type": "code",
   "execution_count": 40,
   "id": "bb935cc3",
   "metadata": {},
   "outputs": [],
   "source": [
    "merged_all_df.to_csv('merged_all_csv.csv')"
   ]
  }
 ],
 "metadata": {
  "kernelspec": {
   "display_name": "Python 3 (ipykernel)",
   "language": "python",
   "name": "python3"
  },
  "language_info": {
   "codemirror_mode": {
    "name": "ipython",
    "version": 3
   },
   "file_extension": ".py",
   "mimetype": "text/x-python",
   "name": "python",
   "nbconvert_exporter": "python",
   "pygments_lexer": "ipython3",
   "version": "3.10.6"
  },
  "toc": {
   "base_numbering": 1,
   "nav_menu": {},
   "number_sections": true,
   "sideBar": true,
   "skip_h1_title": false,
   "title_cell": "Table of Contents",
   "title_sidebar": "Contents",
   "toc_cell": false,
   "toc_position": {},
   "toc_section_display": true,
   "toc_window_display": false
  }
 },
 "nbformat": 4,
 "nbformat_minor": 5
}
